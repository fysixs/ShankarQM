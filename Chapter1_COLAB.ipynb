{
  "nbformat": 4,
  "nbformat_minor": 5,
  "metadata": {
    "kernelspec": {
      "display_name": "Julia 1.6.0",
      "language": "julia",
      "name": "julia-1.6"
    },
    "language_info": {
      "file_extension": ".jl",
      "mimetype": "application/julia",
      "name": "julia",
      "version": "1.6.2"
    },
    "toc-autonumbering": false,
    "toc-showcode": false,
    "toc-showmarkdowntxt": false,
    "toc-showtags": false,
    "colab": {
      "name": "Chapter1_COLAB.ipynb",
      "provenance": [],
      "collapsed_sections": [
        "898cb12a-dfed-4fa3-8128-00e6cac11933",
        "2b175b6b-72e9-401a-91ea-32e5ae380583",
        "9339122a-f27d-43aa-98b4-c82c4dd8d23d",
        "69d32654-9f63-47e8-bbf5-0574a672a3c9",
        "203f415b-ba18-4694-8d70-7ca1f0c16361",
        "6567b20e-0890-40a1-a85c-0c02c238eafb",
        "fd139607-2c94-45a4-ba87-d8f040cba382",
        "feaeae5f-6410-40f8-bf8d-954ebb640f81"
      ],
      "toc_visible": true,
      "include_colab_link": true
    }
  },
  "cells": [
    {
      "cell_type": "markdown",
      "metadata": {
        "id": "view-in-github",
        "colab_type": "text"
      },
      "source": [
        "<a href=\"https://colab.research.google.com/github/fysixs/ShankarQM/blob/master/Chapter1_COLAB.ipynb\" target=\"_parent\"><img src=\"https://colab.research.google.com/assets/colab-badge.svg\" alt=\"Open In Colab\"/></a>"
      ]
    },
    {
      "cell_type": "markdown",
      "metadata": {
        "id": "38ebb33a-7b0c-418e-8f53-9ae475197fd1"
      },
      "source": [
        "$\\newcommand{\\ket}[1]{\\left|\\, #1 \\right\\rangle }$ $\\newcommand{\\bra}[1]{\\left\\langle #1\\, \\right|}$ \n",
        "$\\newcommand{\\braket}[2]{\\left\\langle \\left. #1\\, \\right| #2 \\right\\rangle}$ $\\newcommand{\\V}{\\mathbb{V}}$\n",
        "$\\DeclareMathOperator{\\tr}{tr}$"
      ],
      "id": "38ebb33a-7b0c-418e-8f53-9ae475197fd1"
    },
    {
      "cell_type": "markdown",
      "metadata": {
        "id": "b57c504c-7cdb-46de-9c7f-7b8c3b50483f"
      },
      "source": [
        "[comment]: <> (Written by Andrés Cárdenas)\n",
        "[comment]: <> (July 2021)\n",
        "[comment]: <> (www.fysixs.com)\n",
        "[comment]: <> (andres.cardenas@gmail.com)\n",
        "\n",
        "<div>\n",
        "\n",
        " <img src=\"https://drive.google.com/thumbnail?id=1cJN2J8ByFPCfATK70k6CiHeP0bKGN-Ii\" alt=\"Snow\" width=\"35\"> <font face=\"Gill Sans\" color = #667495> &nbsp;**A Julia/Jupyter Companion**\n",
        " <img src = \"https://i.imgur.com/Bg81qo9.png?2\" width = 70 align=\"right\"><img src=\"https://drive.google.com/thumbnail?id=1nmgz_xGqeqgvU8wBfJFERu1Zs82bBZ84\" alt=\"Snow\" width=\"55\" align =\"right\"> \n",
        " <br>\n",
        "  *Andrés Cárdenas, 2021*, <i><a href=\"https://www.fysixs.com\">www.fysixs.com</a></i>\n",
        "</font>\n",
        "</div>\n",
        "<hr size=5 color=#8D84B5 > </hr> \n",
        "\n",
        "<div align=\"right\"><br>\n",
        "    \n",
        "<font color = #667495 face=\"Gill Sans\" size = 4>***Principles of Quantum Mechanics*** <br><font color = #667495 face=\"Gill Sans\" size=3> by R. Shankar <font size=2> (<a href=\"https://www.amazon.com/Principles-Quantum-Mechanics-R-Shankar-ebook/dp/B000SEIXA2\">text on Amazon</a>)</font> </font><br> </div>\n",
        "    \n",
        "<font color=\"#8D84B5\" face=\"Gill Sans\" size = 5> <b>Chapter 1. Mathematical Introduction </b></font>\n",
        "<hr size=5 color=#8D84B5 > </hr> "
      ],
      "id": "b57c504c-7cdb-46de-9c7f-7b8c3b50483f"
    },
    {
      "cell_type": "code",
      "metadata": {
        "colab": {
          "base_uri": "https://localhost:8080/"
        },
        "id": "GYwwjQ4zmhJX",
        "cellView": "form",
        "outputId": "55e4d4d2-3ab4-4e28-962b-486305a0f370"
      },
      "source": [
        "#@title\n",
        "#@markdown <img src=\"https://drive.google.com/thumbnail?id=1nmgz_xGqeqgvU8wBfJFERu1Zs82bBZ84\" alt=\"Snow\" width=\"60\" align =\"left\"> <font color=#8D84B5> ***Setup***\n",
        "%%shell\n",
        "set -e\n",
        "\n",
        "#---------------------------------------------------#\n",
        "JULIA_VERSION=\"1.6.2\" # any version ≥ 0.7.0\n",
        "JULIA_PACKAGES=\"IJulia LinearAlgebra StaticArrays SymPy LaTeXStrings NBInclude Gadfly\"\n",
        "JULIA_PACKAGES_IF_GPU=\"CUDA\" # or CuArrays for older Julia versions\n",
        "JULIA_NUM_THREADS=2\n",
        "#---------------------------------------------------#\n",
        "\n",
        "if [ -n \"$COLAB_GPU\" ] && [ -z `which julia` ]; then\n",
        "  # Install Julia\n",
        "  JULIA_VER=`cut -d '.' -f -2 <<< \"$JULIA_VERSION\"`\n",
        "  echo \"Installing Julia $JULIA_VERSION on the current Colab Runtime...\"\n",
        "  BASE_URL=\"https://julialang-s3.julialang.org/bin/linux/x64\"\n",
        "  URL=\"$BASE_URL/$JULIA_VER/julia-$JULIA_VERSION-linux-x86_64.tar.gz\"\n",
        "  wget -nv $URL -O /tmp/julia.tar.gz # -nv means \"not verbose\"\n",
        "  tar -x -f /tmp/julia.tar.gz -C /usr/local --strip-components 1\n",
        "  rm /tmp/julia.tar.gz\n",
        "\n",
        "  # Install Packages\n",
        "  if [ \"$COLAB_GPU\" = \"1\" ]; then\n",
        "      JULIA_PACKAGES=\"$JULIA_PACKAGES $JULIA_PACKAGES_IF_GPU\"\n",
        "  fi\n",
        "  for PKG in `echo $JULIA_PACKAGES`; do\n",
        "    echo \"Installing Julia package $PKG...\"\n",
        "    julia -e 'using Pkg; pkg\"add '$PKG'; precompile;\"' &> /dev/null\n",
        "  done\n",
        "\n",
        "  echo ''\n",
        "  echo \"Success!\"\n",
        "fi\n",
        "# Clone the entire repo.\n",
        "git clone -l -s https://github.com/fysixs/ShankarQM.git /content/ShankarQM\n",
        "\n",
        "echo ' '\n",
        "echo '**************************************************'\n",
        "echo \"Please reload the page and continue running below.\"\n",
        "echo '**************************************************'"
      ],
      "id": "GYwwjQ4zmhJX",
      "execution_count": null,
      "outputs": [
        {
          "output_type": "stream",
          "text": [
            "Installing Julia 1.6.2 on the current Colab Runtime...\n",
            "2021-08-15 04:06:22 URL:https://storage.googleapis.com/julialang2/bin/linux/x64/1.6/julia-1.6.2-linux-x86_64.tar.gz [112946671/112946671] -> \"/tmp/julia.tar.gz\" [1]\n",
            "Installing Julia package IJulia...\n",
            "Installing Julia package LinearAlgebra...\n",
            "Installing Julia package StaticArrays...\n",
            "Installing Julia package SymPy...\n",
            "Installing Julia package LaTeXStrings...\n",
            "Installing Julia package NBInclude...\n",
            "Installing Julia package Gadfly...\n",
            "\n",
            "Success!\n",
            "Cloning into '/content/ShankarQM'...\n",
            "warning: --local is ignored\n",
            "remote: Enumerating objects: 17, done.\u001b[K\n",
            "remote: Counting objects: 100% (17/17), done.\u001b[K\n",
            "remote: Compressing objects: 100% (15/15), done.\u001b[K\n",
            "remote: Total 17 (delta 4), reused 5 (delta 2), pack-reused 0\u001b[K\n",
            "Unpacking objects: 100% (17/17), done.\n",
            " \n",
            "**************************************************\n",
            "Please reload the page and continue running below.\n",
            "**************************************************\n"
          ],
          "name": "stdout"
        }
      ]
    },
    {
      "cell_type": "code",
      "metadata": {
        "tags": [
          "hide_input"
        ],
        "id": "8f08a0a2-6108-45ca-827c-6c6b70c10e13"
      },
      "source": [
        "using NBInclude\n",
        "@nbinclude(\"/content/ShankarQM/ShankarSRC.ipynb\")"
      ],
      "id": "8f08a0a2-6108-45ca-827c-6c6b70c10e13",
      "execution_count": 2,
      "outputs": []
    },
    {
      "cell_type": "markdown",
      "metadata": {
        "tags": [],
        "toc-hr-collapsed": true,
        "id": "898cb12a-dfed-4fa3-8128-00e6cac11933"
      },
      "source": [
        "## <font color=\"#8D84B5\" face=\"Gill Sans\"> **Definitions** </font>\n",
        "\n",
        "#### <font color=\"#FF5733\"> *Definition 1* </font> <br>\n",
        "Let $\\mathbb{V} = \\big\\{ \\ket{1}, \\ket{2}, \\ldots, \\ket{V}, \\ket{W}, \\ldots \\big\\}$ with $\\ket{V}$ a *vector*. Together with $\\mathbb{V}$ we also have an addition operation: $\\ket{V} + \\ket{W}$, and a multiplication by a scalar from the field $\\mathcal{F}$: $a\\ket{V}, a\\in \\mathcal{F}$. We assume addition to be *associative* and *commutative* and scalar multiplication to be *distributive* and *associative*. \n",
        "\n",
        "We say $\\mathbb{V}$ is a *vector space* if the following are satisfied:\n",
        "> *Closure*: If $\\ket{V}, \\ket{W} \\in\\mathbb{V}$ and $a\\in\\mathcal{F}$ then $\\ket{V} + \\ket{W}\\in\\mathbb{V}$ and $a\\ket{V}\\in\\mathbb{V}$.\n",
        ">\n",
        "> *Existence of a zero*: There exists a *null* vector $\\ket{0}$ such so that $\\ket{V} + \\ket{0} = \\ket{V}$ for $\\ket{V}\\in\\mathbb{V}$. \n",
        ">\n",
        "> *Existence of an additive inverse*: For every $\\ket{V}\\in\\mathbb{V}$ there exists a $\\ket{-V}$ so that $\\ket{V} + \\ket{-V} = \\ket{0}$.\n",
        "\n",
        "#### <font color=\"#FF5733\"> *Definition 2* </font> <br>\n",
        "If the field $\\mathcal{F}$ is the real numbers, the vector space is called *real*. If the field $\\mathcal{F}$ is the complex numbers, the vector space is called *complex*.\n",
        "\n",
        "#### <font color=\"#FF5733\"> *Definition 3* </font> <br>\n",
        "A set of vectors $\\mathcal{B} = \\big\\{ \\ket{1}, \\ket{2}, \\ldots, \\ket{n} \\big\\}$ is said to be *linearly independent* if the only solutions to\n",
        "\\begin{equation}\n",
        "    \\sum_{i=1}^n a_i \\ket{i} = \\ket{0},\n",
        "\\end{equation}\n",
        "are $a_i=0$ for all $i$. They are called *linearly dependent* if that is not the case.\n",
        "\n",
        "#### <font color=\"#FF5733\"> *Definition 4* </font> <br>\n",
        "A vector space is said to have *dimension* $n$ if the largest set of linearly independent vectors has $n$ elements. If the vector space is real it will be denoted $\\mathbb{V}^n(\\mathbb{R})$, if it is complex, $\\mathbb{V}^n(\\mathbb{C})$.\n",
        "\n",
        "#### <font color=\"#FF5733\"> *Definition 5* </font> <br>\n",
        "The set $\\mathcal{B} = \\big\\{ \\ket{1}, \\ket{2}, \\ldots, \\ket{n} \\big\\}$ of linearly independent vectors is called a *basis* for $\\V$.\n",
        "\n",
        "#### <font color=\"#FF5733\"> *Definition 6* </font> <br>\n",
        "Let $\\mathcal{B}$ be a basis for $\\V$ so that \n",
        "\\begin{equation}\n",
        "    \\ket{V} = \\sum_{i=1}^n v_i \\ket{i}, \\quad \\ket{i}\\in\\mathcal{B}.\n",
        "\\end{equation}\n",
        "We call $v_i$ the the $i$-th component of $\\ket{V}$ in the basis $\\mathcal{B}$. \n",
        "\n",
        "#### <font color=\"#FF5733\"> *Definition 7* </font> <br>\n",
        "Let $\\ket{V}, \\ket{W}, \\ket{Z}\\in\\V$ and denote by $\\braket{V}{W}\\in\\mathbb{C}$, the *scalar or inner product* of the vectors. We demand the inner product to satisfy the following properties\n",
        "> *Skew-symmetry*: $\\braket{V}{W} = \\braket{W}{V}^*$\n",
        ">\n",
        "> *Positive semidefinite*: $\\braket{V}{V}\\geq 0$ with equality only for $\\ket{V} = \\ket{0}$. \n",
        ">\n",
        "> *Ket linearity*: $\\bra{V}\\big(a\\ket{W} + b\\ket{Z}\\big) = \\braket{V}{aW + bZ} = a\\braket{V}{W} + b\\braket{V}{Z}$. \n",
        "\n",
        "A vector space $\\V$ with an inner product is called an *inner product space*.\n",
        "\n",
        "#### <font color=\"#FF5733\"> *Definition 8* </font> <br>\n",
        "We say $\\ket{V}, \\ket{W}$ are *orthogonal* if $\\braket{V}{W} = 0$. \n",
        "\n",
        "#### <font color=\"#FF5733\"> *Definition 9* </font> <br>\n",
        "We denote by $\\lVert V \\rVert \\equiv \\sqrt{\\braket{V}{V}}$, the *norm* of $\\ket{V}$. A *normalized vector* has unit norm.\n",
        "\n",
        "#### <font color=\"#FF5733\"> *Definition 10* </font> <br>\n",
        "If a basis $\\mathcal{B}$ is made up of mutually orhogonal normalized vectors it is called an *orthonormal basis*. \n",
        "\n",
        "#### <font color=\"#FF5733\"> *Definition 11* </font> <br>\n",
        "A *subspace* is a subset of a vector space $\\V$ who itself satisfies all the properties of a vector space. Denote the $i$-th subspace of $\\V$ with dimension $n_i$ by $\\V_i^{n_i}$.\n",
        "\n",
        "#### <font color=\"#FF5733\"> *Definition 12* </font> <br>\n",
        "Given subspaces $\\V_i^{n_i}, \\V_j^{n_j} \\subset \\V$, we define their sum,\n",
        "$$ \\V_i^{n_i} \\oplus \\V_j^{n_j} = \\V_k^{n_k}, $$\n",
        "as the space containing all of $\\V_i^{n_i}$, all of $\\V_j^{n_j}$ and all their linear combinations.\n",
        "\n",
        "#### <font color=\"#FF5733\"> *Definition 13* </font> <br>\n",
        "An operator $\\Omega$ is called *Hermitian* if $\\Omega^\\dagger = \\Omega$.\n",
        "\n",
        "#### <font color=\"#FF5733\"> *Definition 14* </font> <br>\n",
        "An operator $\\Omega$ is called *anti-Hermitian* if $\\Omega^\\dagger = -\\Omega$.\n",
        "\n",
        "#### <font color=\"#FF5733\"> *Definition 15* </font> <br>\n",
        "An operator $U$ is *unitary* if $$ UU^\\dagger = I. $$"
      ],
      "id": "898cb12a-dfed-4fa3-8128-00e6cac11933"
    },
    {
      "cell_type": "markdown",
      "metadata": {
        "jp-MarkdownHeadingCollapsed": true,
        "tags": [],
        "toc-hr-collapsed": true,
        "id": "2b175b6b-72e9-401a-91ea-32e5ae380583"
      },
      "source": [
        "## <font color=\"#8D84B5\" face=\"Gill Sans\"> **Theorems** </font>\n",
        "\n",
        "#### <font color=\"#FF5733\"> *Theorem 1* </font> <br>\n",
        "Let $\\ket{V}\\in\\V^n$ and let $\\mathcal{B} = \\big\\{ \\ket{1}, \\ket{2}, \\ldots, \\ket{n}\\big\\}$ be a linearly independent set then we can always write\n",
        "\\begin{equation}\n",
        "    \\ket{V} = \\sum_{i=1}^n v_i \\ket{i}, \n",
        "\\end{equation}\n",
        "for some scalars $v_i$. We say that $\\ket{V}$ can be written as a *linear combination* of vectors in $\\mathcal{B}$. \n",
        "\n",
        "#### <font color=\"#FF5733\"> *Theorem 2* </font> <br>\n",
        "The expansion above is unique given a basis $\\mathcal{B}$. \n",
        "\n",
        "#### <font color=\"#FF5733\"> *Theorem 3* </font> <br>\n",
        "We can create an orthonormal basis from any basis $\\mathcal{B}$.\n",
        "\n",
        "#### <font color=\"#FF5733\"> *Theorem 4* </font> <br>\n",
        "The maximum number of mutually orthogonal vectors is number of *dimensions* of the space.\n",
        "\n",
        "#### <font color=\"#FF5733\"> *Theorem 5: Schwarz Inequality* </font> <br>\n",
        "\\begin{equation}\n",
        "    \\braket{V}{W}^2 \\leq \\braket{V}{V}\\braket{W}{W}\n",
        "\\end{equation}\n",
        "\n",
        "#### <font color=\"#FF5733\"> *Theorem 6: Triangle Inequality* </font> <br>\n",
        "\\begin{equation}\n",
        "    \\lVert V + W \\rVert  \\leq  \\lVert V \\rVert +  \\lVert V + W \\rVert\n",
        "\\end{equation}\n",
        "\n",
        "#### <font color=\"#FF5733\"> *Theorem 7:* </font> <br>\n",
        "Unitary operators preserve the inner product.\n",
        "\n",
        "#### <font color=\"#FF5733\"> *Theorem 8:* </font> <br>\n",
        "If $U$ is unitary of dimension $n$ then its rows and columns both form orthonormal sets.\n",
        "\n",
        "#### <font color=\"#FF5733\"> *Theorem 9:* </font> <br>\n",
        "The eigenvalues of a Hermitian operator are real. \n",
        "\n",
        "#### <font color=\"#FF5733\"> *Theorem 10:* </font> <br>\n",
        "The set of eigenvectors of a Hermitian operator form an orthonormal basis under which it is diagonal with the eigenvalues as its entries.\n",
        "\n",
        "#### <font color=\"#FF5733\"> *Theorem 11:* </font> <br>\n",
        "The eigenvalues of a unitary operator are complex of unit modulus. \n",
        "\n",
        "#### <font color=\"#FF5733\"> *Theorem 12:* </font> <br>\n",
        "The eigenvectors of a unitary operator are mutually orthogonal. "
      ],
      "id": "2b175b6b-72e9-401a-91ea-32e5ae380583"
    },
    {
      "cell_type": "markdown",
      "metadata": {
        "tags": [],
        "id": "1d7e40f3-af70-4bdf-b65d-8f4c0406cb58"
      },
      "source": [
        "## <font color=\"#8D84B5\" face=\"Gill Sans\"> **Select Exercises/Examples** </font>\n",
        "\n",
        "For the Julia codes here, kets will be denoted by over-right arrows while bras will be denoted by over-left arrows:\n",
        "\\begin{align}\n",
        "\\ket{\\psi} &\\to \\overrightarrow{\\psi}, \\\\\n",
        "\\bra{\\psi} &\\to \\overleftarrow{\\psi}, \\\\\n",
        "\\end{align}"
      ],
      "id": "1d7e40f3-af70-4bdf-b65d-8f4c0406cb58"
    },
    {
      "cell_type": "markdown",
      "metadata": {
        "id": "9339122a-f27d-43aa-98b4-c82c4dd8d23d"
      },
      "source": [
        "### <font color=\"#FF5733\"> *The Gram-Schmidt Algorithm* </font>\n",
        "\n",
        "We start with a random complex basis ℬ of dimension $N$ and apply the following algorithm to construct ℬ′:\n",
        "1. Let $\\ket{1}\\in ℬ′$, set $\\ket{1} = \\ket{I}\\in ℬ$.\n",
        "2. Replace $\\ket{1}$ by its unit-vector: $$ \\frac{\\ket{1}}{\\sqrt{\\braket{1}{1}}} \\to \\ket{1}.$$\n",
        "3. Let $\\ket{2}\\in ℬ′$, set $\\ket{2} = \\ket{II}\\in ℬ$ and subtract out the overlap with $\\ket{1}$:\n",
        "    $$\\ket{2} = \\ket{II} - \\ket{1}\\braket{1}{II}.$$\n",
        "4. Replace $\\ket{2}$ by its unit-vector: $$ \\frac{\\ket{2}}{\\sqrt{\\braket{2}{2}}} \\to \\ket{2}.$$\n",
        "5. Let $\\ket{3}\\in ℬ′$, set $\\ket{3} = \\ket{III}\\in ℬ$ and subtract out the overlap with $\\ket{1}$ and $\\ket{2}$:\n",
        "    $$\\ket{3} = \\ket{III} - \\ket{1}\\braket{1}{III} - \\ket{2}\\braket{2}{III}.$$\n",
        "6. So on..."
      ],
      "id": "9339122a-f27d-43aa-98b4-c82c4dd8d23d"
    },
    {
      "cell_type": "markdown",
      "metadata": {
        "id": "69d32654-9f63-47e8-bbf5-0574a672a3c9"
      },
      "source": [
        "#### <font color=\"darkorange\" > *Exercise 1.3.2*: </font>"
      ],
      "id": "69d32654-9f63-47e8-bbf5-0574a672a3c9"
    },
    {
      "cell_type": "code",
      "metadata": {
        "id": "b0489403-a788-4145-b8c2-f607e489580b",
        "colab": {
          "base_uri": "https://localhost:8080/",
          "height": 90
        },
        "outputId": "0c826110-53bf-482d-8bef-be167486fd11"
      },
      "source": [
        "# ℬ is our starting ket basis which is not orthonormal as shown\n",
        "ℬ = [ ket(3.0, 0.0, 0.0), ket(0.0, 1.0, 2.0), ket(0.0, 2.0, 5.0) ]\n",
        "\n",
        "disp(\"ℬ = $(TeX(ℬ[1].|> Sym)), $(TeX(ℬ[2].|> Sym)), $(TeX(ℬ[3].|> Sym)).\")"
      ],
      "id": "b0489403-a788-4145-b8c2-f607e489580b",
      "execution_count": 45,
      "outputs": [
        {
          "output_type": "display_data",
          "data": {
            "text/markdown": "ℬ = $\\left[\\begin{matrix}3.0\\\\0.0\\\\0.0\\end{matrix}\\right]$, $\\left[\\begin{matrix}0.0\\\\1.0\\\\2.0\\end{matrix}\\right]$, $\\left[\\begin{matrix}0.0\\\\2.0\\\\5.0\\end{matrix}\\right]$."
          },
          "metadata": {
            "tags": []
          }
        }
      ]
    },
    {
      "cell_type": "markdown",
      "metadata": {
        "id": "e9de334d-0a47-484f-8845-a27da8c14b8c"
      },
      "source": [
        "we get after the Gram-Schmidt algorithm,"
      ],
      "id": "e9de334d-0a47-484f-8845-a27da8c14b8c"
    },
    {
      "cell_type": "code",
      "metadata": {
        "id": "5ac0f2c4-4100-4950-8add-30604a65c670",
        "colab": {
          "base_uri": "https://localhost:8080/",
          "height": 90
        },
        "outputId": "55e35793-470c-473c-e7aa-cc16bc31cb51"
      },
      "source": [
        "ℬ′ = gramschmidt( ℬ );\n",
        "disp(\"ℬ′ = $(TeX(ℬ′[1].|> Sym)), $(TeX(ℬ′[2].|> Sym)), $(TeX(ℬ′[3].|> Sym)).\")"
      ],
      "id": "5ac0f2c4-4100-4950-8add-30604a65c670",
      "execution_count": 46,
      "outputs": [
        {
          "output_type": "display_data",
          "data": {
            "text/markdown": "ℬ′ = $\\left[\\begin{matrix}1.0\\\\0.0\\\\0.0\\end{matrix}\\right]$, $\\left[\\begin{matrix}0.0\\\\0.447213595499958\\\\0.894427190999916\\end{matrix}\\right]$, $\\left[\\begin{matrix}0.0\\\\-0.894427190999916\\\\0.447213595499958\\end{matrix}\\right]$."
          },
          "metadata": {
            "tags": []
          }
        }
      ]
    },
    {
      "cell_type": "markdown",
      "metadata": {
        "id": "f5843793-fe56-4bd5-b05a-83e9b1005fb5"
      },
      "source": [
        "Which is as Shankar obtains and is clearly orthonormal:"
      ],
      "id": "f5843793-fe56-4bd5-b05a-83e9b1005fb5"
    },
    {
      "cell_type": "code",
      "metadata": {
        "id": "d8008c23-b2b6-420f-a894-b7eabaefcd13",
        "colab": {
          "base_uri": "https://localhost:8080/",
          "height": 45
        },
        "outputId": "ffa0dc0c-cee1-46b7-ce0f-867840d289c6"
      },
      "source": [
        "disp(\"⟨2|3⟩ = $(ℬ′[2]'|ℬ′[3]), ⟨2|2⟩ = $(ℬ′[2]'|ℬ′[2]).\" )"
      ],
      "id": "d8008c23-b2b6-420f-a894-b7eabaefcd13",
      "execution_count": 47,
      "outputs": [
        {
          "output_type": "display_data",
          "data": {
            "text/markdown": "⟨2|3⟩ = 4.440892098500626e-16, ⟨2|2⟩ = 0.9999999999999999."
          },
          "metadata": {
            "tags": []
          }
        }
      ]
    },
    {
      "cell_type": "markdown",
      "metadata": {
        "id": "b4bf40f4-3114-4b6f-8206-2e4c2e130d4c"
      },
      "source": [
        "### <font color=\"#FF5733\"> *The Rotation Operators* </font>"
      ],
      "id": "b4bf40f4-3114-4b6f-8206-2e4c2e130d4c"
    },
    {
      "cell_type": "code",
      "metadata": {
        "id": "2fa831c2-7f70-49e8-9e22-a0150bf3ffe8",
        "colab": {
          "base_uri": "https://localhost:8080/",
          "height": 285
        },
        "outputId": "48cf661d-c865-454f-c00f-fd0544c75299"
      },
      "source": [
        "î = ket(1, 0, 0); ĵ = ket(0, 1, 0); k̂ = ket(0, 0, 1);\n",
        "\n",
        "disp(\"\"\"\n",
        "    In $(L\"$\\mathbb{R}^3$\") we have 3 main rotation operators about each of the axes:\n",
        "    > $(TeX( R(θ, î) )) for rotations about the *x*-axis.<br> <br>\n",
        "    > $(TeX( R(θ, ĵ) )) for rotations about the *y*-axis.<br> <br>\n",
        "    > $(TeX( R(θ, k̂) )) for rotations about the *z*-axis.<br>\n",
        "    \"\"\"\n",
        "    )"
      ],
      "id": "2fa831c2-7f70-49e8-9e22-a0150bf3ffe8",
      "execution_count": 6,
      "outputs": [
        {
          "output_type": "display_data",
          "data": {
            "text/markdown": "In $\\mathbb{R}^3$ we have 3 main rotation operators about each of the axes:\n> $\\left[\\begin{matrix}1 & 0 & 0\\\\0 & \\cos{\\left(θ \\right)} & - \\sin{\\left(θ \\right)}\\\\0 & \\sin{\\left(θ \\right)} & \\cos{\\left(θ \\right)}\\end{matrix}\\right]$ for rotations about the *x*-axis.<br> <br>\n> $\\left[\\begin{matrix}\\cos{\\left(θ \\right)} & 0 & - \\sin{\\left(θ \\right)}\\\\0 & 1 & 0\\\\\\sin{\\left(θ \\right)} & 0 & \\cos{\\left(θ \\right)}\\end{matrix}\\right]$ for rotations about the *y*-axis.<br> <br>\n> $\\left[\\begin{matrix}\\cos{\\left(θ \\right)} & - \\sin{\\left(θ \\right)} & 0\\\\\\sin{\\left(θ \\right)} & \\cos{\\left(θ \\right)} & 0\\\\0 & 0 & 1\\end{matrix}\\right]$ for rotations about the *z*-axis.<br>\n"
          },
          "metadata": {
            "tags": []
          }
        }
      ]
    },
    {
      "cell_type": "code",
      "metadata": {
        "id": "504383e9-adb5-4d42-b9ac-3285040f92a5",
        "colab": {
          "base_uri": "https://localhost:8080/",
          "height": 151
        },
        "outputId": "47e7993f-1b2e-498e-ee71-0a289d8e6f7c"
      },
      "source": [
        "V⃗ = (α₁)î + (α₂)ĵ + (α₃)k̂;\n",
        "\n",
        "RHS = (α₁)R(θ, ĵ)î + (α₂)R(θ, ĵ)ĵ + (α₃)R(θ, ĵ)k̂;    # Same as linear combination of operator on each ket\n",
        "\n",
        "disp(\"\"\"\n",
        "    Given a generic vector V⃗ = $( TeX(V⃗) ), we use the linearity of the operator to obtain R(θ, ĵ)V⃗ by acting on the basis vectors: \n",
        "    <center>\n",
        "    $(L\"R_{\\hat{\\jmath}}(\\theta)|V\\rangle = R_{\\hat{\\jmath}}(\\theta)\\vec{V} = \\alpha_1 R_{\\hat{\\jmath}}(\\theta)\\hat{\\imath} + \\alpha_2 R_{\\hat{\\jmath}}(\\theta)\\hat{\\jmath} + \\alpha_3 R_{\\hat{\\jmath}}(\\theta)\\hat{k} =\") \n",
        "    $( TeX(RHS) ). \n",
        "    </center>\n",
        "    \"\"\"\n",
        "    )"
      ],
      "id": "504383e9-adb5-4d42-b9ac-3285040f92a5",
      "execution_count": 56,
      "outputs": [
        {
          "output_type": "display_data",
          "data": {
            "text/markdown": "Given a generic vector V⃗ = $\\left[\\begin{matrix}α₁\\\\α₂\\\\α₃\\end{matrix}\\right]$, we use the linearity of the operator to obtain R(θ, ĵ)V⃗ by acting on the basis vectors: \n<center>\n$R_{\\hat{\\jmath}}(\\theta)|V\\rangle = R_{\\hat{\\jmath}}(\\theta)\\vec{V} = \\alpha_1 R_{\\hat{\\jmath}}(\\theta)\\hat{\\imath} + \\alpha_2 R_{\\hat{\\jmath}}(\\theta)\\hat{\\jmath} + \\alpha_3 R_{\\hat{\\jmath}}(\\theta)\\hat{k} =$ \n$\\left[\\begin{matrix}α₁ \\cos{\\left(θ \\right)} - α₃ \\sin{\\left(θ \\right)}\\\\α₂\\\\α₁ \\sin{\\left(θ \\right)} + α₃ \\cos{\\left(θ \\right)}\\end{matrix}\\right]$. \n</center>\n"
          },
          "metadata": {
            "tags": []
          }
        }
      ]
    },
    {
      "cell_type": "markdown",
      "metadata": {
        "tags": [],
        "id": "1379b502-843a-44b6-81b7-07de508d3abc"
      },
      "source": [
        "#### <font color=\"darkorange\" > ***Commutation*** </font>\n",
        "Now, although rotations in 2D commute: (about the same axis in 3D)"
      ],
      "id": "1379b502-843a-44b6-81b7-07de508d3abc"
    },
    {
      "cell_type": "code",
      "metadata": {
        "id": "33124471-3a7d-41a8-9426-58818781de9f",
        "colab": {
          "base_uri": "https://localhost:8080/",
          "height": 77
        },
        "outputId": "eb09a891-e588-4296-e399-974031bf823d"
      },
      "source": [
        "RHS = R(θ₂, k̂)R(θ₁, k̂)R(θ₃, k̂) - R(θ₂, k̂)R(θ₃, k̂)R(θ₁, k̂) \n",
        "disp(\"\"\"\n",
        "    <center> For example, $(L\"R_{\\hat{k}}(\\theta_2)R_{\\hat{k}}(\\theta_1)R_{\\hat{k}}(\\theta_3) - R_{\\hat{k}}(\\theta_2)R_{\\hat{k}}(\\theta_3)R_{\\hat{k}}(\\theta_1) = \")\n",
        "    $(TeX( RHS  |> simplify )).\n",
        "    \"\"\")"
      ],
      "id": "33124471-3a7d-41a8-9426-58818781de9f",
      "execution_count": 8,
      "outputs": [
        {
          "output_type": "display_data",
          "data": {
            "text/markdown": "<center> For example, $R_{\\hat{k}}(\\theta_2)R_{\\hat{k}}(\\theta_1)R_{\\hat{k}}(\\theta_3) - R_{\\hat{k}}(\\theta_2)R_{\\hat{k}}(\\theta_3)R_{\\hat{k}}(\\theta_1) = $\n$\\left[\\begin{matrix}0 & 0 & 0\\\\0 & 0 & 0\\\\0 & 0 & 0\\end{matrix}\\right]$.\n"
          },
          "metadata": {
            "tags": []
          }
        }
      ]
    },
    {
      "cell_type": "markdown",
      "metadata": {
        "id": "596303b5-0abe-4a92-9fa5-bb7237661638"
      },
      "source": [
        "Once we change the rotate about different axes, the we don't have commutativity any longer:"
      ],
      "id": "596303b5-0abe-4a92-9fa5-bb7237661638"
    },
    {
      "cell_type": "code",
      "metadata": {
        "id": "78b49774-54c2-473f-a463-6c9c941f9c4d",
        "colab": {
          "base_uri": "https://localhost:8080/",
          "height": 77
        },
        "outputId": "395365d8-80b5-4820-b01e-7ba78873bfbc"
      },
      "source": [
        "R(θ₂, k̂)R(θ₁, k̂)R(θ₃, ĵ) - R(θ₂, k̂)R(θ₃, ĵ)R(θ₁, k̂) |> TeX"
      ],
      "id": "78b49774-54c2-473f-a463-6c9c941f9c4d",
      "execution_count": 9,
      "outputs": [
        {
          "output_type": "execute_result",
          "data": {
            "text/latex": "$\\left[\\begin{matrix}\\left(- \\sin{\\left(θ₁ \\right)} \\sin{\\left(θ₂ \\right)} + \\cos{\\left(θ₁ \\right)} \\cos{\\left(θ₂ \\right)}\\right) \\cos{\\left(θ₃ \\right)} + \\sin{\\left(θ₁ \\right)} \\sin{\\left(θ₂ \\right)} - \\cos{\\left(θ₁ \\right)} \\cos{\\left(θ₂ \\right)} \\cos{\\left(θ₃ \\right)} & \\sin{\\left(θ₁ \\right)} \\cos{\\left(θ₂ \\right)} \\cos{\\left(θ₃ \\right)} - \\sin{\\left(θ₁ \\right)} \\cos{\\left(θ₂ \\right)} & - \\left(- \\sin{\\left(θ₁ \\right)} \\sin{\\left(θ₂ \\right)} + \\cos{\\left(θ₁ \\right)} \\cos{\\left(θ₂ \\right)}\\right) \\sin{\\left(θ₃ \\right)} + \\sin{\\left(θ₃ \\right)} \\cos{\\left(θ₂ \\right)}\\\\\\left(\\sin{\\left(θ₁ \\right)} \\cos{\\left(θ₂ \\right)} + \\sin{\\left(θ₂ \\right)} \\cos{\\left(θ₁ \\right)}\\right) \\cos{\\left(θ₃ \\right)} - \\sin{\\left(θ₁ \\right)} \\cos{\\left(θ₂ \\right)} - \\sin{\\left(θ₂ \\right)} \\cos{\\left(θ₁ \\right)} \\cos{\\left(θ₃ \\right)} & \\sin{\\left(θ₁ \\right)} \\sin{\\left(θ₂ \\right)} \\cos{\\left(θ₃ \\right)} - \\sin{\\left(θ₁ \\right)} \\sin{\\left(θ₂ \\right)} & - \\left(\\sin{\\left(θ₁ \\right)} \\cos{\\left(θ₂ \\right)} + \\sin{\\left(θ₂ \\right)} \\cos{\\left(θ₁ \\right)}\\right) \\sin{\\left(θ₃ \\right)} + \\sin{\\left(θ₂ \\right)} \\sin{\\left(θ₃ \\right)}\\\\- \\sin{\\left(θ₃ \\right)} \\cos{\\left(θ₁ \\right)} + \\sin{\\left(θ₃ \\right)} & \\sin{\\left(θ₁ \\right)} \\sin{\\left(θ₃ \\right)} & 0\\end{matrix}\\right]$",
            "text/plain": [
              "L\"$\\left[\\begin{matrix}\\left(- \\sin{\\left(θ₁ \\right)} \\sin{\\left(θ₂ \\right)} + \\cos{\\left(θ₁ \\right)} \\cos{\\left(θ₂ \\right)}\\right) \\cos{\\left(θ₃ \\right)} + \\sin{\\left(θ₁ \\right)} \\sin{\\left(θ₂ \\right)} - \\cos{\\left(θ₁ \\right)} \\cos{\\left(θ₂ \\right)} \\cos{\\left(θ₃ \\right)} & \\sin{\\left(θ₁ \\right)} \\cos{\\left(θ₂ \\right)} \\cos{\\left(θ₃ \\right)} - \\sin{\\left(θ₁ \\right)} \\cos{\\left(θ₂ \\right)} & - \\left(- \\sin{\\left(θ₁ \\right)} \\sin{\\left(θ₂ \\right)} + \\cos{\\left(θ₁ \\right)} \\cos{\\left(θ₂ \\right)}\\right) \\sin{\\left(θ₃ \\right)} + \\sin{\\left(θ₃ \\right)} \\cos{\\left(θ₂ \\right)}\\\\\\left(\\sin{\\left(θ₁ \\right)} \\cos{\\left(θ₂ \\right)} + \\sin{\\left(θ₂ \\right)} \\cos{\\left(θ₁ \\right)}\\right) \\cos{\\left(θ₃ \\right)} - \\sin{\\left(θ₁ \\right)} \\cos{\\left(θ₂ \\right)} - \\sin{\\left(θ₂ \\right)} \\cos{\\left(θ₁ \\right)} \\cos{\\left(θ₃ \\right)} & \\sin{\\left(θ₁ \\right)} \\sin{\\left(θ₂ \\right)} \\cos{\\left(θ₃ \\right)} - \\sin{\\left(θ₁ \\right)} \\sin{\\left(θ₂ \\right)} & - \\left(\\sin{\\left(θ₁ \\right)} \\cos{\\left(θ₂ \\right)} + \\sin{\\left(θ₂ \\right)} \\cos{\\left(θ₁ \\right)}\\right) \\sin{\\left(θ₃ \\right)} + \\sin{\\left(θ₂ \\right)} \\sin{\\left(θ₃ \\right)}\\\\- \\sin{\\left(θ₃ \\right)} \\cos{\\left(θ₁ \\right)} + \\sin{\\left(θ₃ \\right)} & \\sin{\\left(θ₁ \\right)} \\sin{\\left(θ₃ \\right)} & 0\\end{matrix}\\right]$\""
            ]
          },
          "metadata": {
            "tags": []
          },
          "execution_count": 9
        }
      ]
    },
    {
      "cell_type": "markdown",
      "metadata": {
        "id": "495a16ed-4547-48d4-a30a-90a115230915"
      },
      "source": [
        "Thus we define the ***commutator*** between operators $\\Omega$ and $\\Lambda$,\n",
        "$$\n",
        "    \\texttt{Com(Ω, Λ)} = [\\Omega, \\Lambda] = \\Omega\\Lambda - \\Lambda\\Omega.\n",
        "$$\n",
        "You can play around with the commutator on the rotation operators:"
      ],
      "id": "495a16ed-4547-48d4-a30a-90a115230915"
    },
    {
      "cell_type": "code",
      "metadata": {
        "id": "ac2cd583-2a2b-4cdf-a4e4-6494e1408c0b",
        "colab": {
          "base_uri": "https://localhost:8080/",
          "height": 77
        },
        "outputId": "14dd5da4-6a21-42ba-b376-d6518d076371"
      },
      "source": [
        "# Rotations about diff axes DO NOT commute:\n",
        "RHS = Com( R(θ₁, î), R(θ₂, ĵ) );\n",
        "disp(\"<center> $(L\"\\big[R_{\\hat{\\imath}}(\\theta_1), R_{\\hat{\\jmath}}(\\theta_2)\\big] = \") $(TeX( RHS ))\")"
      ],
      "id": "ac2cd583-2a2b-4cdf-a4e4-6494e1408c0b",
      "execution_count": 10,
      "outputs": [
        {
          "output_type": "display_data",
          "data": {
            "text/markdown": "<center> $\\big[R_{\\hat{\\imath}}(\\theta_1), R_{\\hat{\\jmath}}(\\theta_2)\\big] = $ $\\left[\\begin{matrix}0 & \\sin{\\left(θ₁ \\right)} \\sin{\\left(θ₂ \\right)} & \\sin{\\left(θ₂ \\right)} \\cos{\\left(θ₁ \\right)} - \\sin{\\left(θ₂ \\right)}\\\\- \\sin{\\left(θ₁ \\right)} \\sin{\\left(θ₂ \\right)} & 0 & - \\sin{\\left(θ₁ \\right)} \\cos{\\left(θ₂ \\right)} + \\sin{\\left(θ₁ \\right)}\\\\\\sin{\\left(θ₂ \\right)} \\cos{\\left(θ₁ \\right)} - \\sin{\\left(θ₂ \\right)} & - \\sin{\\left(θ₁ \\right)} \\cos{\\left(θ₂ \\right)} + \\sin{\\left(θ₁ \\right)} & 0\\end{matrix}\\right]$"
          },
          "metadata": {
            "tags": []
          }
        }
      ]
    },
    {
      "cell_type": "code",
      "metadata": {
        "id": "1cb886c1-11c4-4730-a58b-6221213858df",
        "colab": {
          "base_uri": "https://localhost:8080/",
          "height": 77
        },
        "outputId": "df1ad0c6-eef2-421a-90e1-a0af57e0594f"
      },
      "source": [
        "# Rotations about the same axes DO commute\n",
        "RHS = Com( R(θ₂, î), R(θ₁, î) );\n",
        "disp(\"<center> $(L\"\\big[R_{\\hat{\\imath}}(\\theta_1), R_{\\hat{\\imath}}(\\theta_2)\\big] = \") $(TeX( RHS )).\")"
      ],
      "id": "1cb886c1-11c4-4730-a58b-6221213858df",
      "execution_count": 11,
      "outputs": [
        {
          "output_type": "display_data",
          "data": {
            "text/markdown": "<center> $\\big[R_{\\hat{\\imath}}(\\theta_1), R_{\\hat{\\imath}}(\\theta_2)\\big] = $ $\\left[\\begin{matrix}0 & 0 & 0\\\\0 & 0 & 0\\\\0 & 0 & 0\\end{matrix}\\right]$."
          },
          "metadata": {
            "tags": []
          }
        }
      ]
    },
    {
      "cell_type": "markdown",
      "metadata": {
        "id": "f1aea9ba-e158-4319-872d-5b3dfd2c61db"
      },
      "source": [
        "<u>Identity 1.5.10</u>:\n",
        "\\begin{equation} [A, BC] = B[A,C] + [A,B]C. \\end{equation}"
      ],
      "id": "f1aea9ba-e158-4319-872d-5b3dfd2c61db"
    },
    {
      "cell_type": "code",
      "metadata": {
        "id": "ba29a79b-75e0-4faa-a716-5111dcb0ca8c",
        "colab": {
          "base_uri": "https://localhost:8080/"
        },
        "outputId": "d3711dfc-759e-4c03-a1ee-c68bf45c25bc"
      },
      "source": [
        "LHS = Com( R(θ₁, î), R(θ₂, ĵ)R(θ₃, k̂) ) |> simplify;\n",
        "RHS = R(θ₂, ĵ)Com( R(θ₁, î), R(θ₃, k̂) ) + Com( R(θ₁, î), R(θ₂, ĵ) )R(θ₃, k̂) |> simplify;\n",
        "\n",
        "LHS == RHS # Testing their equality"
      ],
      "id": "ba29a79b-75e0-4faa-a716-5111dcb0ca8c",
      "execution_count": 12,
      "outputs": [
        {
          "output_type": "execute_result",
          "data": {
            "text/plain": [
              "true"
            ]
          },
          "metadata": {
            "tags": []
          },
          "execution_count": 12
        }
      ]
    },
    {
      "cell_type": "markdown",
      "metadata": {
        "tags": [],
        "id": "32dd5ab2-e32e-401e-91e8-0c53d943a80e"
      },
      "source": [
        "#### <font color=\"darkorange\" > ***Matrix Elements*** </font>"
      ],
      "id": "32dd5ab2-e32e-401e-91e8-0c53d943a80e"
    },
    {
      "cell_type": "markdown",
      "metadata": {
        "id": "8962ed63-ce73-4b0d-a50e-314f701c9b08"
      },
      "source": [
        "To obtain the matrix elements of the operator $\\Omega$ in the basis ℬ, we obtain all combinations\n",
        "\\begin{equation}\n",
        "    \\Omega_{ij} = \\braket{i}{\\Omega j} = \\bra{i}\\Omega\\ket{j},\n",
        "\\end{equation}\n",
        "where $\\ket{i}$ labels the $i$-th basis ket. "
      ],
      "id": "8962ed63-ce73-4b0d-a50e-314f701c9b08"
    },
    {
      "cell_type": "code",
      "metadata": {
        "id": "eab4468d-feee-4416-a4ed-57754b332990",
        "colab": {
          "base_uri": "https://localhost:8080/",
          "height": 77
        },
        "outputId": "8dda0794-e94a-4fad-8b42-acaf3d02b0b5"
      },
      "source": [
        "# We take Ω to be a rotation operator here\n",
        "ℬ = [î, ĵ, k̂]              # The standard basis\n",
        "Rmat = mat( R(θ, î), ℬ )   # The mat routine defined in the source file calculates the matrix elements\n",
        "disp(\"<center> Matrix rep for $(L\"R_{\\hat{\\imath}}(\\theta)\") in the basis ℬ = $(TeX( Rmat )),\")"
      ],
      "id": "eab4468d-feee-4416-a4ed-57754b332990",
      "execution_count": 13,
      "outputs": [
        {
          "output_type": "display_data",
          "data": {
            "text/markdown": "<center> Matrix rep for $R_{\\hat{\\imath}}(\\theta)$ in the basis ℬ = $\\left[\\begin{matrix}1 & 0 & 0\\\\0 & \\cos{\\left(θ \\right)} & - \\sin{\\left(θ \\right)}\\\\0 & \\sin{\\left(θ \\right)} & \\cos{\\left(θ \\right)}\\end{matrix}\\right]$,"
          },
          "metadata": {
            "tags": []
          }
        }
      ]
    },
    {
      "cell_type": "markdown",
      "metadata": {
        "id": "0a6a532e-bfdb-498f-9ffc-d7bea33d174c"
      },
      "source": [
        "so that for example,"
      ],
      "id": "0a6a532e-bfdb-498f-9ffc-d7bea33d174c"
    },
    {
      "cell_type": "code",
      "metadata": {
        "id": "71d1b551-9857-4777-b5ba-c4414d15add2",
        "colab": {
          "base_uri": "https://localhost:8080/",
          "height": 38
        },
        "outputId": "6552eb35-f728-42e2-f534-a20b0c77ed3d"
      },
      "source": [
        "disp(\"<center> $(L\"\\langle 2|R|3\\rangle = \\langle\\hat{j}|R|\\hat{k}\\rangle\") = $(TeX( ĵ|(R(θ, î)k̂) ))\")"
      ],
      "id": "71d1b551-9857-4777-b5ba-c4414d15add2",
      "execution_count": 14,
      "outputs": [
        {
          "output_type": "display_data",
          "data": {
            "text/markdown": "<center> $\\langle 2|R|3\\rangle = \\langle\\hat{j}|R|\\hat{k}\\rangle$ = $- \\sin{\\left(θ \\right)}$"
          },
          "metadata": {
            "tags": []
          }
        }
      ]
    },
    {
      "cell_type": "markdown",
      "metadata": {
        "id": "85638f57-1e23-47fd-a294-1f2b0e98e9e1"
      },
      "source": [
        "which are different under a different basis ℬ′:"
      ],
      "id": "85638f57-1e23-47fd-a294-1f2b0e98e9e1"
    },
    {
      "cell_type": "code",
      "metadata": {
        "id": "cbcca543-55c5-42ca-9aea-3831be74b389",
        "colab": {
          "base_uri": "https://localhost:8080/",
          "height": 114
        },
        "outputId": "604e02d4-4630-4d37-a53f-16a6215e91b4"
      },
      "source": [
        "ℬ′ = gramschmidt( [ ket(1.0,1.0,0.0), ket(-1.0, 1.0, 0.0) , k̂ ] ) # GramSchmidt always clutch with the bases: ℬ′ is orthonormal!\n",
        "disp(\"\"\"\n",
        "    <center> Matrix rep for R(θ, î) in the basis ℬ′ = $(TeX( mat( R(θ, î), ℬ′ ) )), <br><br> \n",
        "    $(L\"\\langle 2'|R|3'\\rangle= \") $(TeX( ℬ′[2]|(R(θ, î)ℬ′[3]) ))\n",
        "    \"\"\")"
      ],
      "id": "cbcca543-55c5-42ca-9aea-3831be74b389",
      "execution_count": 15,
      "outputs": [
        {
          "output_type": "display_data",
          "data": {
            "text/markdown": "<center> Matrix rep for R(θ, î) in the basis ℬ′ = $\\left[\\begin{matrix}0.5 \\cos{\\left(θ \\right)} + 0.5 & 0.5 \\cos{\\left(θ \\right)} - 0.5 & - 0.707106781186547 \\sin{\\left(θ \\right)}\\\\0.5 \\cos{\\left(θ \\right)} - 0.5 & 0.5 \\cos{\\left(θ \\right)} + 0.5 & - 0.707106781186547 \\sin{\\left(θ \\right)}\\\\0.707106781186547 \\sin{\\left(θ \\right)} & 0.707106781186547 \\sin{\\left(θ \\right)} & 1.0 \\cos{\\left(θ \\right)}\\end{matrix}\\right]$, <br><br> \n$\\langle 2'|R|3'\\rangle= $ $- 0.707106781186547 \\sin{\\left(θ \\right)}$\n"
          },
          "metadata": {
            "tags": []
          }
        }
      ]
    },
    {
      "cell_type": "markdown",
      "metadata": {
        "id": "f65d7190-96e4-4e79-b7f7-7929caed3bc7"
      },
      "source": [
        "Just like the coordinates of a vector change with a change of basis. Vectors, like operators, are abstract objects which *can* be expressed as arrays when setting a basis."
      ],
      "id": "f65d7190-96e4-4e79-b7f7-7929caed3bc7"
    },
    {
      "cell_type": "markdown",
      "metadata": {
        "id": "b922678c-ef03-41e9-8a15-d75794e6d9f4"
      },
      "source": [
        "#### <font color=\"darkorange\" > ***Unitarity*** </font>"
      ],
      "id": "b922678c-ef03-41e9-8a15-d75794e6d9f4"
    },
    {
      "cell_type": "markdown",
      "metadata": {
        "id": "452c2e73-3b6d-4c9d-b941-f46ff55c71a6"
      },
      "source": [
        "Here we show the properties followed by unitary operators as it applies to the rotation operators which are actually orthogonal:"
      ],
      "id": "452c2e73-3b6d-4c9d-b941-f46ff55c71a6"
    },
    {
      "cell_type": "code",
      "metadata": {
        "id": "d287fd07-1783-44f8-b063-24a02f8b689c",
        "colab": {
          "base_uri": "https://localhost:8080/",
          "height": 77
        },
        "outputId": "7152992b-faf3-490d-c5cd-bb82681d5e48"
      },
      "source": [
        "disp(\"<center> \\$ R^{-1}R = R R^{-1} = \\$ $(TeX( inv( R(θ, î) )R(θ, î) |> simplify )).\") # Definition of orthogonality"
      ],
      "id": "d287fd07-1783-44f8-b063-24a02f8b689c",
      "execution_count": 16,
      "outputs": [
        {
          "output_type": "display_data",
          "data": {
            "text/markdown": "<center> $ R^{-1}R = R R^{-1} = $ $\\left[\\begin{matrix}1 & 0 & 0\\\\0 & 1 & 0\\\\0 & 0 & 1\\end{matrix}\\right]$."
          },
          "metadata": {
            "tags": []
          }
        }
      ]
    },
    {
      "cell_type": "markdown",
      "metadata": {
        "id": "b00bba23-43ea-4914-b0be-123205ade4c7"
      },
      "source": [
        "> **1. They preserve inner products:**\n",
        "$$ \\braket{ R_{\\hat{n}}(\\theta) V }{ R_{\\hat{n}}(\\theta) V } = \\bra{V}\\left(R_{\\hat{n}}(\\theta)\\right)^T R_{\\hat{n}}(\\theta)\\ket{V} = \\braket{V}{V}.$$"
      ],
      "id": "b00bba23-43ea-4914-b0be-123205ade4c7"
    },
    {
      "cell_type": "code",
      "metadata": {
        "id": "53913fda-ba1c-4f0e-be01-4275effdcd89",
        "colab": {
          "base_uri": "https://localhost:8080/",
          "height": 36
        },
        "outputId": "daa3b1ae-5364-43fe-f968-584271329b91"
      },
      "source": [
        "# Acting on a generic vector:\n",
        "V⃗ = (α₁)î + (α₂)ĵ + (α₃)k̂    # |V⟩\n",
        "V⃖ = V⃗'                       # ⟨V| = (|V⟩)ᵀ\n",
        "\n",
        "expr1 = (R(θ, î)V⃗)|(R(θ, î)V⃗) |> simplify; expr2 = ((V⃖)transpose(R(θ, î))R(θ, î)V⃗)[1] |> simplify; expr3 = (V⃖|V⃗);\n",
        "disp(\"<center> $(L\"\\langle R_{\\hat{i}} V|R_{\\hat{i}}V\\rangle\") =  $(TeX(expr1)) = $(TeX(expr2)) = $(TeX(expr3)) = $(L\"\\langle V|V\\rangle\").\")"
      ],
      "id": "53913fda-ba1c-4f0e-be01-4275effdcd89",
      "execution_count": 17,
      "outputs": [
        {
          "output_type": "display_data",
          "data": {
            "text/markdown": "<center> $\\langle R_{\\hat{i}} V|R_{\\hat{i}}V\\rangle$ =  $α₁ α₁^{\\dagger} + α₂ α₂^{\\dagger} + α₃ α₃^{\\dagger}$ = $α₁ α₁^{\\dagger} + α₂ α₂^{\\dagger} + α₃ α₃^{\\dagger}$ = $α₁ α₁^{\\dagger} + α₂ α₂^{\\dagger} + α₃ α₃^{\\dagger}$ = $\\langle V|V\\rangle$."
          },
          "metadata": {
            "tags": []
          }
        }
      ]
    },
    {
      "cell_type": "markdown",
      "metadata": {
        "id": "0ccdb5ed-b89f-433c-bbe6-1ffeea1f8954"
      },
      "source": [
        "> **2. Their determinant is of modulus 1:** "
      ],
      "id": "0ccdb5ed-b89f-433c-bbe6-1ffeea1f8954"
    },
    {
      "cell_type": "code",
      "metadata": {
        "id": "3db92cfc-af21-4b60-a517-137003d8b8bb",
        "colab": {
          "base_uri": "https://localhost:8080/",
          "height": 36
        },
        "outputId": "a14c9873-e616-4ecd-f30d-f2b236df8e85"
      },
      "source": [
        "disp(\"<center> $(L\"\\det(R_{\\hat{i}}) = \") $(TeX( det( R(θ, î) ) |> simplify )).\")"
      ],
      "id": "3db92cfc-af21-4b60-a517-137003d8b8bb",
      "execution_count": 18,
      "outputs": [
        {
          "output_type": "display_data",
          "data": {
            "text/markdown": "<center> $\\det(R_{\\hat{i}}) = $ $1$."
          },
          "metadata": {
            "tags": []
          }
        }
      ]
    },
    {
      "cell_type": "markdown",
      "metadata": {
        "id": "0973ea7b-063c-41f1-a9a6-b673f4747198"
      },
      "source": [
        "> **3. They should not change the trace of operators.** <br> *Exercise 1.6.6 in Shankar*: We will use the operator defined there,\n",
        "$$ U = \\frac{1}{\\sqrt{2}}\\begin{bmatrix} 1 & i \\\\ i & 1 \\end{bmatrix}, $$ to show this property holds using two different but equivalent points of view,"
      ],
      "id": "0973ea7b-063c-41f1-a9a6-b673f4747198"
    },
    {
      "cell_type": "code",
      "metadata": {
        "id": "b674630d-14f2-4c40-96ab-90fbc67e5943",
        "colab": {
          "base_uri": "https://localhost:8080/",
          "height": 121
        },
        "outputId": "6beb4259-69a6-4692-9702-bf545b9d5b7a"
      },
      "source": [
        "# Defined in Ex 1.6.6\n",
        "U = (1/sqrt(2)) * SMatrix{2, 2, Sym, 4}(1.0, 1.0im, 1.0im, 1.0)   \n",
        "\n",
        "# Define the standard 2D basis\n",
        "ℬ²ᴰ = [ ket(1, 0), ket(0, 1) ]\n",
        "\n",
        "# Define the rotated 2D basis (about k̂)\n",
        "idx = SVector(1,2)\n",
        "ℬ²ᴰ′ = [ R(θ, k̂)[idx,idx]ket(1.0,0.0), R(θ, k̂)[idx,idx]ket(0.0,1.0) ] \n",
        "\n",
        "disp(\"\"\" \n",
        "    >> **A. Active Transformation**:<br> Given \\$U\\$ we show its trace \n",
        "    does not change after a <u>rotation of the basis</u>:\n",
        "    <center> $(L\"\\mathrm{tr}(U) =\\sum \\langle i|U|i\\rangle = \") $(TeX( tr(mat( U, ℬ²ᴰ )) )) <br>\n",
        "    $(L\"\\mathrm{tr}(U) = \\sum \\langle  R_{\\hat{n}}(\\theta) i|U| R_{\\hat{n}}(\\theta) i\\rangle = \") $(TeX( tr(mat( U, ℬ²ᴰ′ )) |> simplify )).\n",
        "    \"\"\")"
      ],
      "id": "b674630d-14f2-4c40-96ab-90fbc67e5943",
      "execution_count": 19,
      "outputs": [
        {
          "output_type": "display_data",
          "data": {
            "text/markdown": " \n>> **A. Active Transformation**:<br> Given $U$ we show its trace \ndoes not change after a <u>rotation of the basis</u>:\n<center> $\\mathrm{tr}(U) =\\sum \\langle i|U|i\\rangle = $ $1.41421356237309$ <br>\n$\\mathrm{tr}(U) = \\sum \\langle  R_{\\hat{n}}(\\theta) i|U| R_{\\hat{n}}(\\theta) i\\rangle = $ $1.41421356237309$.\n"
          },
          "metadata": {
            "tags": []
          }
        }
      ]
    },
    {
      "cell_type": "code",
      "metadata": {
        "id": "71fbf9ea-f398-418f-854c-2f6db295dd7a",
        "colab": {
          "base_uri": "https://localhost:8080/",
          "height": 122
        },
        "outputId": "af581f42-7e99-4171-b226-3a395ebcb959"
      },
      "source": [
        "disp(\"\"\" \n",
        "    >> **B. Passive Transformation**:<br> Given \\$U\\$ we show its trace does not change after a <u>rotation of the operator</u>:\n",
        "    <center> $(L\"\\mathrm{tr}(U) =\\sum \\langle i|U|i\\rangle = \") $(TeX( tr(mat( U, ℬ²ᴰ )) )) <br> $(L\"\\mathrm{tr}\\left(R_{\\hat{n}}(\\theta)^\\dagger U R_{\\hat{n}}(\\theta)\\right) =\\sum \\langle i| R_{\\hat{n}}(\\theta)^\\dagger U R_{\\hat{n}}(\\theta)| i\\rangle = \") $(TeX( tr(mat( R(θ, k̂)[idx,idx]'*U*R(θ, k̂)[idx,idx], ℬ²ᴰ )) |> simplify )).\n",
        "    \"\"\")"
      ],
      "id": "71fbf9ea-f398-418f-854c-2f6db295dd7a",
      "execution_count": 20,
      "outputs": [
        {
          "output_type": "display_data",
          "data": {
            "text/markdown": " \n>> **B. Passive Transformation**:<br> Given $U$ we show its trace does not change after a <u>rotation of the operator</u>:\n<center> $\\mathrm{tr}(U) =\\sum \\langle i|U|i\\rangle = $ $1.41421356237309$ <br> $\\mathrm{tr}\\left(R_{\\hat{n}}(\\theta)^\\dagger U R_{\\hat{n}}(\\theta)\\right) =\\sum \\langle i| R_{\\hat{n}}(\\theta)^\\dagger U R_{\\hat{n}}(\\theta)| i\\rangle = $ $1.41421356237309$.\n"
          },
          "metadata": {
            "tags": []
          }
        }
      ]
    },
    {
      "cell_type": "markdown",
      "metadata": {
        "id": "a8b93d3a-37e3-4535-b756-185d97960376"
      },
      "source": [
        ">**4. The determinant post-unitary transformations does not change:**"
      ],
      "id": "a8b93d3a-37e3-4535-b756-185d97960376"
    },
    {
      "cell_type": "code",
      "metadata": {
        "id": "ecad9f2c-f567-4f5e-9fa6-80fbda84d56b",
        "colab": {
          "base_uri": "https://localhost:8080/",
          "height": 57
        },
        "outputId": "bc0cb95b-2527-4cb5-fb14-7eb7f42db8fc"
      },
      "source": [
        "disp(\"\"\"<center> $(L\"U \\longrightarrow R_{\\hat{n}}(\\theta)^\\dagger U R_{\\hat{n}}(\\theta)\") <br>\n",
        "    $(L\"\\det\\left(R_{\\hat{n}}(\\theta)^\\dagger U R_{\\hat{n}}(\\theta)\\right) - \\det(U) = \") \n",
        "    $(TeX( det(R(θ, k̂)[idx,idx]'*U*R(θ, k̂)[idx,idx])  - det(U) |> simplify )).\"\"\")"
      ],
      "id": "ecad9f2c-f567-4f5e-9fa6-80fbda84d56b",
      "execution_count": 21,
      "outputs": [
        {
          "output_type": "display_data",
          "data": {
            "text/markdown": "<center> $U \\longrightarrow R_{\\hat{n}}(\\theta)^\\dagger U R_{\\hat{n}}(\\theta)$ <br>\n$\\det\\left(R_{\\hat{n}}(\\theta)^\\dagger U R_{\\hat{n}}(\\theta)\\right) - \\det(U) = $ \n$0$."
          },
          "metadata": {
            "tags": []
          }
        }
      ]
    },
    {
      "cell_type": "markdown",
      "metadata": {
        "tags": [],
        "id": "c2d2a282-55f0-44f2-9328-08d8f21a3415"
      },
      "source": [
        "### <font color=\"#FF5733\"> *Projection Operators* </font>"
      ],
      "id": "c2d2a282-55f0-44f2-9328-08d8f21a3415"
    },
    {
      "cell_type": "markdown",
      "metadata": {
        "id": "e5dee76a-49a1-4413-80ac-521c6137a744"
      },
      "source": [
        "We define\n",
        "$$ \\mathbb{P}(\\ket{i}) = \\ket{i}\\bra{i}, $$\n",
        "and as we can see below when applied to a generic ket $\\ket{V}$, it gives you *how much of $\\ket{V}$ is along $\\ket{i}$*:"
      ],
      "id": "e5dee76a-49a1-4413-80ac-521c6137a744"
    },
    {
      "cell_type": "code",
      "metadata": {
        "id": "faa66547-a32c-4891-b943-1a0c1509ae68",
        "colab": {
          "base_uri": "https://localhost:8080/",
          "height": 77
        },
        "outputId": "d252ca3b-73b3-447b-c0ba-cd93f1706241"
      },
      "source": [
        "V⃗ = (α₁)î + (α₂)ĵ + (α₃)k̂\n",
        "disp(\"<center> $(L\"\\mathbb{P}(\\hat{k})\\vec{V} = |\\hat{k}\\rangle\\langle\\hat{k}|V\\rangle = \") $(TeX( ℙ(k̂)V⃗ )).\")"
      ],
      "id": "faa66547-a32c-4891-b943-1a0c1509ae68",
      "execution_count": 22,
      "outputs": [
        {
          "output_type": "display_data",
          "data": {
            "text/markdown": "<center> $\\mathbb{P}(\\hat{k})\\vec{V} = |\\hat{k}\\rangle\\langle\\hat{k}|V\\rangle = $ $\\left[\\begin{matrix}0\\\\0\\\\α₃\\end{matrix}\\right]$."
          },
          "metadata": {
            "tags": []
          }
        }
      ]
    },
    {
      "cell_type": "markdown",
      "metadata": {
        "id": "7f10c645-6999-4e5d-b8c3-036fc85f45e9"
      },
      "source": [
        "If we add all projection operators for a basis we get the identity operator as expected:"
      ],
      "id": "7f10c645-6999-4e5d-b8c3-036fc85f45e9"
    },
    {
      "cell_type": "code",
      "metadata": {
        "id": "38a35f9a-6896-4254-92ab-60275567bc82",
        "colab": {
          "base_uri": "https://localhost:8080/",
          "height": 77
        },
        "outputId": "0ad86e4d-4ba1-4b6c-86bb-0b3a7c52d874"
      },
      "source": [
        "ℙ(ℬ[1]) + ℙ(ℬ[2]) + ℙ(ℬ[3]) .|> Sym |> TeX"
      ],
      "id": "38a35f9a-6896-4254-92ab-60275567bc82",
      "execution_count": 23,
      "outputs": [
        {
          "output_type": "execute_result",
          "data": {
            "text/latex": "$\\left[\\begin{matrix}1 & 0 & 0\\\\0 & 1 & 0\\\\0 & 0 & 1\\end{matrix}\\right]$",
            "text/plain": [
              "L\"$\\left[\\begin{matrix}1 & 0 & 0\\\\0 & 1 & 0\\\\0 & 0 & 1\\end{matrix}\\right]$\""
            ]
          },
          "metadata": {
            "tags": []
          },
          "execution_count": 23
        }
      ]
    },
    {
      "cell_type": "markdown",
      "metadata": {
        "id": "8a857fb7-1c74-44d3-94ee-9158cf4276c0"
      },
      "source": [
        "### <font color=\"#FF5733\"> *The Eigenvalue Problem* </font>"
      ],
      "id": "8a857fb7-1c74-44d3-94ee-9158cf4276c0"
    },
    {
      "cell_type": "markdown",
      "metadata": {
        "id": "2d4f7f72-e1b6-423c-9fd2-c66ed60f577b"
      },
      "source": [
        "We start by defining a generic 2D operator (it is defined by its matrix representation under the standard basis):"
      ],
      "id": "2d4f7f72-e1b6-423c-9fd2-c66ed60f577b"
    },
    {
      "cell_type": "code",
      "metadata": {
        "id": "50677a8c-2e3d-43c9-82fc-7e0104c8dcd1",
        "colab": {
          "base_uri": "https://localhost:8080/",
          "height": 71
        },
        "outputId": "aacfb74d-ba5e-47c4-c1aa-b31cbb6535b1"
      },
      "source": [
        "Ω = @SMatrix[\n",
        "    Ω₁₁  Ω₁₂ ;\n",
        "    Ω₂₁  Ω₂₂ ;\n",
        "    ];\n",
        "\"Ω = $(Ω|> TeX)\" |> disp"
      ],
      "id": "50677a8c-2e3d-43c9-82fc-7e0104c8dcd1",
      "execution_count": 24,
      "outputs": [
        {
          "output_type": "display_data",
          "data": {
            "text/markdown": "Ω = $\\left[\\begin{matrix}Ω₁₁ & Ω₁₂\\\\Ω₂₁ & Ω₂₂\\end{matrix}\\right]$"
          },
          "metadata": {
            "tags": []
          }
        }
      ]
    },
    {
      "cell_type": "markdown",
      "metadata": {
        "id": "bd8dde49-6e6d-445a-b494-0825a6665ad8"
      },
      "source": [
        "which defines the *characteristic equation* in steps:"
      ],
      "id": "bd8dde49-6e6d-445a-b494-0825a6665ad8"
    },
    {
      "cell_type": "code",
      "metadata": {
        "id": "ca420677-02ff-4369-abea-060547a2d2ac",
        "colab": {
          "base_uri": "https://localhost:8080/",
          "height": 176
        },
        "outputId": "7bfe2cfa-5e5a-48a6-fc40-a33bb41b131a"
      },
      "source": [
        "# Define the standard 2D basis\n",
        "ℬ²ᴰ = [ ket(1, 0), ket(0, 1) ]\n",
        "# Define the characteristic matrix/polynomial\n",
        "charmat = mat( Ω - (ω)I, ℬ²ᴰ )\n",
        "charpol = det( charmat )\n",
        "\n",
        "disp(\"\"\"\n",
        "    > 1. *characteristic matrix*: <br>\n",
        "    > <center> $(L\"\\Omega - \\omega\\mathbf{I} = \") $(TeX( charmat )) </center>\n",
        "    > 2. *characteristic polynomial*: <br>\n",
        "    > <center> $(L\"\\det(\\Omega - \\omega\\mathbf{I}) = \") $(TeX( charpol )) </center>\n",
        "    > 3. *characteristic equation*: <br>\n",
        "    > <center> $(TeX( charpol |> expand )) = 0 </center>\n",
        "    \"\"\")"
      ],
      "id": "ca420677-02ff-4369-abea-060547a2d2ac",
      "execution_count": 25,
      "outputs": [
        {
          "output_type": "display_data",
          "data": {
            "text/markdown": "> 1. *characteristic matrix*: <br>\n> <center> $\\Omega - \\omega\\mathbf{I} = $ $\\left[\\begin{matrix}Ω₁₁ - ω & Ω₁₂\\\\Ω₂₁ & Ω₂₂ - ω\\end{matrix}\\right]$ </center>\n> 2. *characteristic polynomial*: <br>\n> <center> $\\det(\\Omega - \\omega\\mathbf{I}) = $ $- Ω₁₂ Ω₂₁ + \\left(Ω₁₁ - ω\\right) \\left(Ω₂₂ - ω\\right)$ </center>\n> 3. *characteristic equation*: <br>\n> <center> $Ω₁₁ Ω₂₂ - Ω₁₁ ω - Ω₁₂ Ω₂₁ - Ω₂₂ ω + ω^{2}$ = 0 </center>\n"
          },
          "metadata": {
            "tags": []
          }
        }
      ]
    },
    {
      "cell_type": "markdown",
      "metadata": {
        "id": "f10b1871-953a-40b0-a77b-8d3588de64c1"
      },
      "source": [
        "Using `Sympy` we can solve the latter for $\\omega$ to obtain the set of eigenvalues for the operator:"
      ],
      "id": "f10b1871-953a-40b0-a77b-8d3588de64c1"
    },
    {
      "cell_type": "code",
      "metadata": {
        "tags": [],
        "id": "161ac032-0330-4387-beac-c64c5798e5a6",
        "colab": {
          "base_uri": "https://localhost:8080/",
          "height": 67
        },
        "outputId": "230e0de1-c788-4d49-cd3a-cb291cc5670e"
      },
      "source": [
        "disp(\"<center> $(TeX( charpol |> expand )) = 0 $(L\"\\implies \\omega = \") $(TeX( solve(charpol, ω) ))\")"
      ],
      "id": "161ac032-0330-4387-beac-c64c5798e5a6",
      "execution_count": 26,
      "outputs": [
        {
          "output_type": "display_data",
          "data": {
            "text/markdown": "<center> $Ω₁₁ Ω₂₂ - Ω₁₁ ω - Ω₁₂ Ω₂₁ - Ω₂₂ ω + ω^{2}$ = 0 $\\implies \\omega = $ $\\left[\\begin{matrix}\\frac{Ω₁₁}{2} + \\frac{Ω₂₂}{2} - \\frac{\\sqrt{Ω₁₁^{2} - 2 Ω₁₁ Ω₂₂ + 4 Ω₁₂ Ω₂₁ + Ω₂₂^{2}}}{2}\\\\\\frac{Ω₁₁}{2} + \\frac{Ω₂₂}{2} + \\frac{\\sqrt{Ω₁₁^{2} - 2 Ω₁₁ Ω₂₂ + 4 Ω₁₂ Ω₂₁ + Ω₂₂^{2}}}{2}\\end{matrix}\\right]$"
          },
          "metadata": {
            "tags": []
          }
        }
      ]
    },
    {
      "cell_type": "markdown",
      "metadata": {
        "id": "4929bf06-0110-415a-98d8-1245184be111"
      },
      "source": [
        "the `eigvals` function does all these steps for us:"
      ],
      "id": "4929bf06-0110-415a-98d8-1245184be111"
    },
    {
      "cell_type": "code",
      "metadata": {
        "id": "32c97fd6-881b-423d-a018-d6e32d76328e",
        "colab": {
          "base_uri": "https://localhost:8080/",
          "height": 67
        },
        "outputId": "49e77f18-3e28-4f3b-e92d-7b005a03ebbd"
      },
      "source": [
        "eigvals(mat(Ω, ℬ²ᴰ) |> Array) |> TeX"
      ],
      "id": "32c97fd6-881b-423d-a018-d6e32d76328e",
      "execution_count": 27,
      "outputs": [
        {
          "output_type": "execute_result",
          "data": {
            "text/latex": "$\\left[\\begin{matrix}\\frac{Ω₁₁}{2} + \\frac{Ω₂₂}{2} - \\frac{\\sqrt{Ω₁₁^{2} - 2 Ω₁₁ Ω₂₂ + 4 Ω₁₂ Ω₂₁ + Ω₂₂^{2}}}{2}\\\\\\frac{Ω₁₁}{2} + \\frac{Ω₂₂}{2} + \\frac{\\sqrt{Ω₁₁^{2} - 2 Ω₁₁ Ω₂₂ + 4 Ω₁₂ Ω₂₁ + Ω₂₂^{2}}}{2}\\end{matrix}\\right]$",
            "text/plain": [
              "L\"$\\left[\\begin{matrix}\\frac{Ω₁₁}{2} + \\frac{Ω₂₂}{2} - \\frac{\\sqrt{Ω₁₁^{2} - 2 Ω₁₁ Ω₂₂ + 4 Ω₁₂ Ω₂₁ + Ω₂₂^{2}}}{2}\\\\\\frac{Ω₁₁}{2} + \\frac{Ω₂₂}{2} + \\frac{\\sqrt{Ω₁₁^{2} - 2 Ω₁₁ Ω₂₂ + 4 Ω₁₂ Ω₂₁ + Ω₂₂^{2}}}{2}\\end{matrix}\\right]$\""
            ]
          },
          "metadata": {
            "tags": []
          },
          "execution_count": 27
        }
      ]
    },
    {
      "cell_type": "markdown",
      "metadata": {
        "id": "50d3f39e-b039-48dd-8cc9-7c50457abb9b"
      },
      "source": [
        "notice that you can say ***eigenvalues of the operator*** because the set of eigenvalues does not change with a change in basis:"
      ],
      "id": "50d3f39e-b039-48dd-8cc9-7c50457abb9b"
    },
    {
      "cell_type": "code",
      "metadata": {
        "id": "76dfba28-55b1-4d85-8747-0912e2b86b12",
        "colab": {
          "base_uri": "https://localhost:8080/",
          "height": 61
        },
        "outputId": "66e3fab2-74ed-4a06-8a71-2e093bfa7a07"
      },
      "source": [
        "ℬ²ᴰ′ = [ ket(-1/sqrt(2), 1/sqrt(2)), ket(1/sqrt(2), 1/sqrt(2)) ]\n",
        "mat(Ω, ℬ²ᴰ′) |> Array |> eigvals |> TeX "
      ],
      "id": "76dfba28-55b1-4d85-8747-0912e2b86b12",
      "execution_count": 28,
      "outputs": [
        {
          "output_type": "execute_result",
          "data": {
            "text/latex": "$\\left[\\begin{matrix}0.5 Ω₁₁ + 0.5 Ω₂₂ + 1.0 \\sqrt{0.25 Ω₁₁^{2} - 0.5 Ω₁₁ Ω₂₂ + 1.0 Ω₁₂ Ω₂₁ + 0.25 Ω₂₂^{2}}\\\\0.5 Ω₁₁ + 0.5 Ω₂₂ - 1.0 \\sqrt{0.25 Ω₁₁^{2} - 0.5 Ω₁₁ Ω₂₂ + 1.0 Ω₁₂ Ω₂₁ + 0.25 Ω₂₂^{2}}\\end{matrix}\\right]$",
            "text/plain": [
              "L\"$\\left[\\begin{matrix}0.5 Ω₁₁ + 0.5 Ω₂₂ + 1.0 \\sqrt{0.25 Ω₁₁^{2} - 0.5 Ω₁₁ Ω₂₂ + 1.0 Ω₁₂ Ω₂₁ + 0.25 Ω₂₂^{2}}\\\\0.5 Ω₁₁ + 0.5 Ω₂₂ - 1.0 \\sqrt{0.25 Ω₁₁^{2} - 0.5 Ω₁₁ Ω₂₂ + 1.0 Ω₁₂ Ω₂₁ + 0.25 Ω₂₂^{2}}\\end{matrix}\\right]$\""
            ]
          },
          "metadata": {
            "tags": []
          },
          "execution_count": 28
        }
      ]
    },
    {
      "cell_type": "markdown",
      "metadata": {
        "id": "203f415b-ba18-4694-8d70-7ca1f0c16361"
      },
      "source": [
        "#### <font color=\"darkorange\" > *Example 1.8.4*:\n",
        "\n",
        "Solving for the eigenset (eigenvalues together eigenvectors) of the rotation operator $R_{\\hat{\\imath}}\\left(\\dfrac{\\pi}{2}\\right)$."
      ],
      "id": "203f415b-ba18-4694-8d70-7ca1f0c16361"
    },
    {
      "cell_type": "code",
      "metadata": {
        "id": "bec7ed0c-f831-4ba9-b848-85c56172ca1a",
        "colab": {
          "base_uri": "https://localhost:8080/",
          "height": 109
        },
        "outputId": "678b2c0e-7c30-48a0-fc17-3be87878dea6"
      },
      "source": [
        "ℬ³ᴰ = [ î, ĵ, k̂ ]    # The standard basis in 3D\n",
        "ωR =  eigvals( mat(R(π/2,î), ℬ³ᴰ) |> Array );    # obtain the eigenvalues of the operator\n",
        "disp(\"\"\"\n",
        "    The eigenvalues of $(L\"R_{\\hat{\\imath}}(\\pi/2)\") with matrix representation $(TeX( mat(R(π/2,î), ℬ³ᴰ) .|> Sym) ) in the standard 3D basis \n",
        "    are given by the set $(TeX( [ωR[i] for i ∈ 1:length(ωR)])), where \\$10^{-17}\\$ is a roundoff to 0 here.\n",
        "    \"\"\")"
      ],
      "id": "bec7ed0c-f831-4ba9-b848-85c56172ca1a",
      "execution_count": 29,
      "outputs": [
        {
          "output_type": "display_data",
          "data": {
            "text/markdown": "The eigenvalues of $R_{\\hat{\\imath}}(\\pi/2)$ with matrix representation $\\left[\\begin{matrix}1.0 & 0.0 & 0.0\\\\0.0 & 6.12323399573677 \\cdot 10^{-17} & -1.0\\\\0.0 & 1.0 & 6.12323399573677 \\cdot 10^{-17}\\end{matrix}\\right]$ in the standard 3D basis \nare given by the set $\\mathtt{\\text{[6.123234e-17-1.j 6.123234e-17+1.j 1.000000e+00+0.j]}}$, where $10^{-17}$ is a roundoff to 0 here.\n"
          },
          "metadata": {
            "tags": []
          }
        }
      ]
    },
    {
      "cell_type": "markdown",
      "metadata": {
        "id": "4ce157ff-6e60-4405-a4ec-b2d3d805091f"
      },
      "source": [
        "To solve for the eigenvectors we must solve the equation\n",
        "\\begin{equation}\n",
        "    \\big(R_\\hat\\imath(\\pi/2) - \\omega_i\\mathbf{I}\\big)\\ket{i} = 0,\n",
        "\\end{equation}\n",
        "for the $i$-th ket $\\ket{i}$ given $\\omega_i$, the $i$-th eigenvalue."
      ],
      "id": "4ce157ff-6e60-4405-a4ec-b2d3d805091f"
    },
    {
      "cell_type": "code",
      "metadata": {
        "id": "9f610c6f-5663-4f64-9097-ce84789b3140",
        "colab": {
          "base_uri": "https://localhost:8080/",
          "height": 77
        },
        "outputId": "94dc65bf-21d4-4e5b-840e-6fe40da87bc7"
      },
      "source": [
        "charMat = mat(R(π/2,î), ℬ³ᴰ) - ωR[1]*I;\n",
        "v⃗₁ = ket( x₁, x₂, x₃ );\n",
        "disp(\"<center> For the eigenvalue $(TeX( ωR[1] )) we must solve $(TeX( charMat * v⃗₁ ) ) $(L\" = \\begin{bmatrix} 0 \\\\ 0 \\\\ 0 \\end{bmatrix}\").\")"
      ],
      "id": "9f610c6f-5663-4f64-9097-ce84789b3140",
      "execution_count": 30,
      "outputs": [
        {
          "output_type": "display_data",
          "data": {
            "text/markdown": "<center> For the eigenvalue $\\mathtt{\\text{(6.123233995736766e-17-1j)}}$ we must solve $\\left[\\begin{matrix}x₁ \\left(1.0 + 1.0 i\\right)\\\\1.0 i x₂ - 1.0 x₃\\\\1.0 x₂ + 1.0 i x₃\\end{matrix}\\right]$ $ = \\begin{bmatrix} 0 \\\\ 0 \\\\ 0 \\end{bmatrix}$."
          },
          "metadata": {
            "tags": []
          }
        }
      ]
    },
    {
      "cell_type": "code",
      "metadata": {
        "id": "47730bf3-647b-4e39-9b9c-797346525337",
        "colab": {
          "base_uri": "https://localhost:8080/",
          "height": 77
        },
        "outputId": "ddb7a65d-5a58-4a90-c1b7-407db2567d2c"
      },
      "source": [
        "solns = solve.(charMat * v⃗₁) .|> Sym;\n",
        "disp(\"<center> The solution of the system is given by $(TeX( solns )), so that, $(L\" \\vec{v}_1 = \\begin{bmatrix} 0 \\\\ -i x_3 \\\\ x_3 \\end{bmatrix}\") for any \\$x_3\\$.\")"
      ],
      "id": "47730bf3-647b-4e39-9b9c-797346525337",
      "execution_count": 31,
      "outputs": [
        {
          "output_type": "display_data",
          "data": {
            "text/markdown": "<center> The solution of the system is given by $\\left[\\begin{matrix}0.0\\\\\\left[ \\left\\{ x₂ : - i x₃\\right\\}\\right]\\\\\\left[ \\left\\{ x₂ : - i x₃\\right\\}\\right]\\end{matrix}\\right]$, so that, $ \\vec{v}_1 = \\begin{bmatrix} 0 \\\\ -i x_3 \\\\ x_3 \\end{bmatrix}$ for any $x_3$."
          },
          "metadata": {
            "tags": []
          }
        }
      ]
    },
    {
      "cell_type": "markdown",
      "metadata": {
        "id": "f2808dff-529d-48d9-9674-9e92e2da9f40"
      },
      "source": [
        "To define the eigenvector then, we let $x_3=1$ and normalize our vector:"
      ],
      "id": "f2808dff-529d-48d9-9674-9e92e2da9f40"
    },
    {
      "cell_type": "code",
      "metadata": {
        "id": "64622bd2-58d1-4ab5-b287-5ca486a8f87a",
        "colab": {
          "base_uri": "https://localhost:8080/",
          "height": 77
        },
        "outputId": "47f33118-5bd0-4e9e-8fa7-1d2388def879"
      },
      "source": [
        "v⃗₁ = ket( 0, -1*im , 1 );\n",
        "v⃗₁ = uvec( v⃗₁ );\n",
        "v⃗₁ |> TeX"
      ],
      "id": "64622bd2-58d1-4ab5-b287-5ca486a8f87a",
      "execution_count": 32,
      "outputs": [
        {
          "output_type": "execute_result",
          "data": {
            "text/latex": "$\\left[\\begin{matrix}0\\\\- 0.707106781186547 i\\\\0.707106781186547\\end{matrix}\\right]$",
            "text/plain": [
              "L\"$\\left[\\begin{matrix}0\\\\- 0.707106781186547 i\\\\0.707106781186547\\end{matrix}\\right]$\""
            ]
          },
          "metadata": {
            "tags": []
          },
          "execution_count": 32
        }
      ]
    },
    {
      "cell_type": "markdown",
      "metadata": {
        "id": "bb741314-b927-423f-8f6a-2df691e7346d"
      },
      "source": [
        "Repeating the procedure for the rest of the eigenvalues:"
      ],
      "id": "bb741314-b927-423f-8f6a-2df691e7346d"
    },
    {
      "cell_type": "code",
      "metadata": {
        "id": "b7b07eff-fd8c-468d-a109-d2b04718b0ac",
        "colab": {
          "base_uri": "https://localhost:8080/",
          "height": 90
        },
        "outputId": "c18ba2b0-4702-43f9-eaa6-821ed2962a00"
      },
      "source": [
        "charMat = mat(R(π/2,î), ℬ³ᴰ) - ωR[2]*I;\n",
        "v⃗₂ = ket( x₁, x₂, x₃ );\n",
        "solns_2 = solve.(charMat * v⃗₂) .|> Sym;\n",
        "\n",
        "charMat = mat(R(π/2,î), ℬ³ᴰ) - ωR[3]*I;\n",
        "v⃗₃ = ket( x₁, x₂, x₃ );\n",
        "solns_3 = solve.(charMat * v⃗₃) .|> Sym;\n",
        "\n",
        "disp(\"\"\"\n",
        "    For $(TeX( ωR[2] )) we get a solution $(TeX( solns_2 )), for $(TeX( ωR[3] )) we get $(TeX( solns_3 )).\n",
        "    This implies we can take $(L\"|2\\rangle =  \\begin{bmatrix} 0 \\\\ i \\\\ 1 \\end{bmatrix} \\text{and} |3\\rangle =  \\begin{bmatrix} 1 \\\\ 0 \\\\ 0 \\end{bmatrix}.\")\n",
        "    \"\"\")"
      ],
      "id": "b7b07eff-fd8c-468d-a109-d2b04718b0ac",
      "execution_count": 33,
      "outputs": [
        {
          "output_type": "display_data",
          "data": {
            "text/markdown": "For $\\mathtt{\\text{(6.123233995736766e-17+1j)}}$ we get a solution $\\left[\\begin{matrix}0.0\\\\\\left[ \\left\\{ x₂ : i x₃\\right\\}\\right]\\\\\\left[ \\left\\{ x₂ : i x₃\\right\\}\\right]\\end{matrix}\\right]$, for $\\mathtt{\\text{(1+0j)}}$ we get $\\left[\\begin{matrix}\\left[ \\right]\\\\\\left[ \\left\\{ x₂ : - x₃\\right\\}\\right]\\\\\\left[ \\left\\{ x₂ : x₃\\right\\}\\right]\\end{matrix}\\right]$.\nThis implies we can take $|2\\rangle =  \\begin{bmatrix} 0 \\\\ i \\\\ 1 \\end{bmatrix} \\text{and} |3\\rangle =  \\begin{bmatrix} 1 \\\\ 0 \\\\ 0 \\end{bmatrix}.$\n"
          },
          "metadata": {
            "tags": []
          }
        }
      ]
    },
    {
      "cell_type": "markdown",
      "metadata": {
        "id": "c025e83a-8814-41b8-abbe-2f4847cf6977"
      },
      "source": [
        "After normalizing we finally obtain the eigenset of the rotation operator"
      ],
      "id": "c025e83a-8814-41b8-abbe-2f4847cf6977"
    },
    {
      "cell_type": "code",
      "metadata": {
        "id": "e1a0790d-1345-4137-8bcc-e40b6a5e4520",
        "colab": {
          "base_uri": "https://localhost:8080/",
          "height": 200
        },
        "outputId": "054e2d0c-0fcd-46f9-ade7-c9d96ab7404e"
      },
      "source": [
        "v⃗₂ = ket( 0, 1*im , 1 );  v⃗₃ = ket( 1, 0 , 0 );\n",
        "v⃗₂ = uvec( v⃗₂ );    v⃗₃ = uvec( v⃗₃ );\n",
        "disp(\"\"\"\n",
        "    <center> $(TeX(ωR[1])), $(TeX(v⃗₁)), <br> $(TeX(ωR[2])), $(TeX(v⃗₂)), <br> $(TeX(ωR[3])), $(TeX(v⃗₃)).\n",
        "    \"\"\")"
      ],
      "id": "e1a0790d-1345-4137-8bcc-e40b6a5e4520",
      "execution_count": 34,
      "outputs": [
        {
          "output_type": "display_data",
          "data": {
            "text/markdown": "<center> $\\mathtt{\\text{(6.123233995736766e-17-1j)}}$, $\\left[\\begin{matrix}0\\\\- 0.707106781186547 i\\\\0.707106781186547\\end{matrix}\\right]$, <br> $\\mathtt{\\text{(6.123233995736766e-17+1j)}}$, $\\left[\\begin{matrix}0\\\\0.707106781186547 i\\\\0.707106781186547\\end{matrix}\\right]$, <br> $\\mathtt{\\text{(1+0j)}}$, $\\left[\\begin{matrix}1.0\\\\0.0\\\\0.0\\end{matrix}\\right]$.\n"
          },
          "metadata": {
            "tags": []
          }
        }
      ]
    },
    {
      "cell_type": "code",
      "metadata": {
        "id": "d36e02b2-3b66-4be5-abe4-a1fd63882548",
        "colab": {
          "base_uri": "https://localhost:8080/",
          "height": 107
        },
        "outputId": "76be4758-ea84-4dda-cd1d-3996dbd066fd"
      },
      "source": [
        "ℬᴿⁱ = [ v⃗₁, v⃗₂, v⃗₃ ];\n",
        "newmat = mat( R(π/2, î) .|> Complex, ℬᴿⁱ ) .|> Sym;\n",
        "disp(\"\"\"\n",
        "    In this eigenset we see that just like Theorem 10 promised, the Hermitian operator (here the rotation)\n",
        "    is diagonal in its eigenbasis and the eigenvalues are along the diagonal: $(TeX( newmat )).\n",
        "    \"\"\")"
      ],
      "id": "d36e02b2-3b66-4be5-abe4-a1fd63882548",
      "execution_count": 35,
      "outputs": [
        {
          "output_type": "display_data",
          "data": {
            "text/markdown": "In this eigenset we see that just like Theorem 10 promised, the Hermitian operator (here the rotation)\nis diagonal in its eigenbasis and the eigenvalues are along the diagonal: $\\left[\\begin{matrix}6.12323399573676 \\cdot 10^{-17} - 1.0 i & 0 & 0\\\\0 & 6.12323399573676 \\cdot 10^{-17} + 1.0 i & 0\\\\0 & 0 & 1.0\\end{matrix}\\right]$.\n"
          },
          "metadata": {
            "tags": []
          }
        }
      ]
    },
    {
      "cell_type": "markdown",
      "metadata": {
        "id": "6567b20e-0890-40a1-a85c-0c02c238eafb"
      },
      "source": [
        "#### <font color=\"darkorange\" > *Example 1.8.5*: </font>\n",
        "Repeat above for\n",
        "\\begin{equation*}\n",
        "    \\Omega = \\begin{bmatrix} 1 & 0 & 1 \\\\ 0 & 2 & 0 \\\\ 1 & 0 & 1\\\\ \\end{bmatrix},\n",
        "\\end{equation*}\n",
        "however we use our `Sympy` tools to simplify the process:"
      ],
      "id": "6567b20e-0890-40a1-a85c-0c02c238eafb"
    },
    {
      "cell_type": "code",
      "metadata": {
        "id": "ba6472c4-8077-4191-b681-6e091ac6c1bb",
        "colab": {
          "base_uri": "https://localhost:8080/",
          "height": 107
        },
        "outputId": "80462fc8-e71a-443f-8b1e-27370fa42593"
      },
      "source": [
        "Ω = @SMatrix[\n",
        "    1 0 1;\n",
        "    0 2 0;\n",
        "    1 0 1;\n",
        "    ];\n",
        "ωΩ = eigvals( Ω );  # Get the eigenvalues\n",
        "eigvΩ = eigvecs( Ω .|> Float64 ); # Get the eigenvectors\n",
        "eigvΩ = [ eigvΩ[:,i] for i∈1:3 ];\n",
        "ℬ′ = [ ket(vec) for vec in eigvΩ ]; # Form a basis\n",
        "Ω′ = mat( Ω, ℬ′ ) .|> Sym; # The matrix rep under the eigenbasis\n",
        "\n",
        "disp(\"\"\"\n",
        "    Ω has eigenvalues $(TeX(ωΩ)) with corresponding eigenvectors $(TeX([ ℬ′[i] .|> Sym for i∈1:3 ] |> Sym)). You can see the degenerate subspace perpendicular to the last eigenvector.\n",
        "    \"\"\")"
      ],
      "id": "ba6472c4-8077-4191-b681-6e091ac6c1bb",
      "execution_count": 36,
      "outputs": [
        {
          "output_type": "display_data",
          "data": {
            "text/markdown": "Ω has eigenvalues $\\left[ 0.0, \\  2.0, \\  2.0\\right]$ with corresponding eigenvectors $\\left[ \\left[\\begin{matrix}0.707106781186547\\\\0.0\\\\-0.707106781186548\\end{matrix}\\right], \\  \\left[\\begin{matrix}-0.707106781186548\\\\0.0\\\\-0.707106781186547\\end{matrix}\\right], \\  \\left[\\begin{matrix}0.0\\\\-1.0\\\\0.0\\end{matrix}\\right]\\right]$. You can see the degenerate subspace perpendicular to the last eigenvector.\n"
          },
          "metadata": {
            "tags": []
          }
        }
      ]
    },
    {
      "cell_type": "markdown",
      "metadata": {
        "id": "fd139607-2c94-45a4-ba87-d8f040cba382"
      },
      "source": [
        "#### <font color=\"darkorange\" > *Exercise 1.8.1*: </font>\n",
        "\n",
        "\\begin{equation*}\n",
        "    \\Omega = \\begin{bmatrix} 1 & 3 & 1 \\\\ 0 & 2 & 0 \\\\ 0 & 1 & 4\\\\ \\end{bmatrix},\n",
        "\\end{equation*}"
      ],
      "id": "fd139607-2c94-45a4-ba87-d8f040cba382"
    },
    {
      "cell_type": "code",
      "metadata": {
        "id": "ca6e68be-05a4-4d5d-9b1a-c6e4b3355221",
        "colab": {
          "base_uri": "https://localhost:8080/",
          "height": 107
        },
        "outputId": "28820854-ec76-4f90-fbd9-96df6c12f80f"
      },
      "source": [
        "Ω = @SMatrix[\n",
        "    1 3 1;\n",
        "    0 2 0;\n",
        "    0 1 4;\n",
        "    ];\n",
        "ωΩ = eigvals( Ω |> Array );  # Get the eigenvalues\n",
        "eigvΩ = eigvecs( Ω .|> Float64 ); # Get the eigenvectors\n",
        "eigvΩ = [ eigvΩ[:,i] for i∈1:3 ];\n",
        "ℬ′ = [ ket(vec) for vec in eigvΩ ]; # Form a basis\n",
        "Ω′ = mat( Ω, ℬ′ ) .|> Sym; # The matrix rep under the eigenbasis\n",
        "\n",
        "disp(\"\"\"\n",
        "    Ω has eigenvalues $(TeX(ωΩ)) with corresponding eigenvectors $(TeX([ ℬ′[i] .|> Sym for i∈1:3 ] |> Sym)). Which is clearly NOT orthogonal since Ω is not Hermitian.\n",
        "    \"\"\")"
      ],
      "id": "ca6e68be-05a4-4d5d-9b1a-c6e4b3355221",
      "execution_count": 37,
      "outputs": [
        {
          "output_type": "display_data",
          "data": {
            "text/markdown": "Ω has eigenvalues $\\mathtt{\\text{[1. 2. 4.]}}$ with corresponding eigenvectors $\\left[ \\left[\\begin{matrix}1.0\\\\0.0\\\\0.0\\end{matrix}\\right], \\  \\left[\\begin{matrix}0.912870929175277\\\\0.365148371670111\\\\-0.182574185835055\\end{matrix}\\right], \\  \\left[\\begin{matrix}0.316227766016838\\\\0.0\\\\0.948683298050514\\end{matrix}\\right]\\right]$. Which is clearly NOT orthogonal since Ω is not Hermitian.\n"
          },
          "metadata": {
            "tags": []
          }
        }
      ]
    },
    {
      "cell_type": "markdown",
      "metadata": {
        "id": "feaeae5f-6410-40f8-bf8d-954ebb640f81"
      },
      "source": [
        "#### <font color=\"darkorange\" > *Exercise 1.8.2*: </font>\n",
        "\n",
        "\\begin{equation*}\n",
        "    \\Omega = \\begin{bmatrix} 0 & 0 & 1 \\\\ 0 & 0 & 0 \\\\ 1 & 0 & 0\\\\ \\end{bmatrix},\n",
        "\\end{equation*}"
      ],
      "id": "feaeae5f-6410-40f8-bf8d-954ebb640f81"
    },
    {
      "cell_type": "code",
      "metadata": {
        "id": "7c50779e-ffb8-448d-b342-6e9f09ad4dd1",
        "colab": {
          "base_uri": "https://localhost:8080/",
          "height": 171
        },
        "outputId": "f026ff7e-558b-4d42-c256-8dba763b3961"
      },
      "source": [
        "Ω = @SMatrix[\n",
        "    0 0 1;\n",
        "    0 0 0;\n",
        "    1 0 0;\n",
        "    ];\n",
        "ωΩ = eigvals( Ω |> Array );  # Get the eigenvalues\n",
        "eigvΩ = eigvecs( Ω .|> Float64 ); # Get the eigenvectors\n",
        "eigvΩ = [ eigvΩ[:,i] for i∈1:3 ];\n",
        "ℬ′ = [ ket(vec) for vec in eigvΩ ]; # Form a basis\n",
        "Ω′ = mat( Ω, ℬ′ ) .|> Sym; # The matrix rep under the eigenbasis\n",
        "\n",
        "U = eigvecs( Ω .|> Float64 );\n",
        "\n",
        "disp(\"\"\"\n",
        "    Ω has eigenvalues $(TeX(ωΩ)) with corresponding eigenvectors $(TeX([ ℬ′[i] .|> Sym for i∈1:3 ] |> Sym)).\n",
        "    These are orthogonal since Ω is Hermitian in this case. Furthermore as promised, if we let $(L\"U\") be the matrix built \n",
        "    out of Ω's eigenvectors, the product $(L\"U^\\dagger \\Omega U\") is diagonal, $(TeX(U'*Ω*U .|> Sym)).\n",
        "    \"\"\")"
      ],
      "id": "7c50779e-ffb8-448d-b342-6e9f09ad4dd1",
      "execution_count": 38,
      "outputs": [
        {
          "output_type": "display_data",
          "data": {
            "text/markdown": "Ω has eigenvalues $\\mathtt{\\text{[-1.  0.  1.]}}$ with corresponding eigenvectors $\\left[ \\left[\\begin{matrix}0.707106781186547\\\\0.0\\\\-0.707106781186548\\end{matrix}\\right], \\  \\left[\\begin{matrix}0.0\\\\-1.0\\\\0.0\\end{matrix}\\right], \\  \\left[\\begin{matrix}-0.707106781186548\\\\0.0\\\\-0.707106781186547\\end{matrix}\\right]\\right]$.\nThese are orthogonal since Ω is Hermitian in this case. Furthermore as promised, if we let $U$ be the matrix built \nout of Ω's eigenvectors, the product $U^\\dagger \\Omega U$ is diagonal, $\\left[\\begin{matrix}-1.0 & 0.0 & 1.99673461754274 \\cdot 10^{-16}\\\\0.0 & 0.0 & 0.0\\\\1.79380389039135 \\cdot 10^{-16} & 0.0 & 1.0\\end{matrix}\\right]$.\n"
          },
          "metadata": {
            "tags": []
          }
        }
      ]
    },
    {
      "cell_type": "markdown",
      "metadata": {
        "id": "7582a0d1-dd5a-46a1-827c-8b673edc1ab7"
      },
      "source": [
        "#### <font color=\"darkorange\" > *Exercise 1.8.5*: </font>\n",
        "\n",
        "\\begin{equation*}\n",
        "    \\Omega = \\begin{bmatrix} \\cos\\theta & \\sin\\theta \\\\ -\\sin\\theta & \\cos\\theta \\\\ \\end{bmatrix},\n",
        "\\end{equation*}"
      ],
      "id": "7582a0d1-dd5a-46a1-827c-8b673edc1ab7"
    },
    {
      "cell_type": "code",
      "metadata": {
        "id": "18db934b-b042-40cc-adb5-8bc060c19396",
        "colab": {
          "base_uri": "https://localhost:8080/",
          "height": 71
        },
        "outputId": "8816e0e2-46a3-467a-fdfb-827ad6f91e40"
      },
      "source": [
        "Ω = @SMatrix[\n",
        "    cos(θ) sin(θ);\n",
        "    -sin(θ) cos(θ);\n",
        "    ];\n",
        "unitary = Ω'Ω .|> simplify;\n",
        "charMat = Ω - ω*I;\n",
        "eigs = solve( det(charMat), ω );\n",
        "\n",
        "disp(\"We have thus checked that Ω is unitary, $(L\"U^\\dagger U = \") $(TeX( unitary )) with eigenvalues $(TeX( eigs )).\")"
      ],
      "id": "18db934b-b042-40cc-adb5-8bc060c19396",
      "execution_count": 39,
      "outputs": [
        {
          "output_type": "display_data",
          "data": {
            "text/markdown": "We have thus checked that Ω is unitary, $U^\\dagger U = $ $\\left[\\begin{matrix}1 & 0\\\\0 & 1\\end{matrix}\\right]$ with eigenvalues $\\left[\\begin{matrix}e^{- i θ}\\\\e^{i θ}\\end{matrix}\\right]$."
          },
          "metadata": {
            "tags": []
          }
        }
      ]
    },
    {
      "cell_type": "markdown",
      "metadata": {
        "id": "2460669b-69c4-49ea-b238-4ca76e0d8c48"
      },
      "source": [
        "To solve for the eigenvectors we will get the first one through the usual method, "
      ],
      "id": "2460669b-69c4-49ea-b238-4ca76e0d8c48"
    },
    {
      "cell_type": "code",
      "metadata": {
        "id": "9a53f05f-6b6e-477b-b78b-d9fa1992b7d8",
        "colab": {
          "base_uri": "https://localhost:8080/",
          "height": 71
        },
        "outputId": "b8bbeaf7-fedf-4e8f-ce03-c73d032dcc27"
      },
      "source": [
        "charMat = Ω - eigs[2]*I;\n",
        "v⃗₂ = ket( x₁, x₂ );\n",
        "solns = solve.(charMat * v⃗₂, x₁);\n",
        "v⃗₂ = ket( -im, 1 ) |> uvec;\n",
        "\n",
        "disp(\"For eigenvalue $(TeX( eigs[2] )) we get $(L\"x_1 = \") $(TeX( solns[1][1])), so that $(L\"\\vec{v}_2 = \\begin{bmatrix} -i \\\\ 1\\end{bmatrix}\"), which after normalization becomes $(TeX( v⃗₂ )).\")"
      ],
      "id": "9a53f05f-6b6e-477b-b78b-d9fa1992b7d8",
      "execution_count": 40,
      "outputs": [
        {
          "output_type": "display_data",
          "data": {
            "text/markdown": "For eigenvalue $e^{i θ}$ we get $x_1 = $ $- i x₂$, so that $\\vec{v}_2 = \\begin{bmatrix} -i \\\\ 1\\end{bmatrix}$, which after normalization becomes $\\left[\\begin{matrix}- 0.707106781186547 i\\\\0.707106781186547\\end{matrix}\\right]$."
          },
          "metadata": {
            "tags": []
          }
        }
      ]
    },
    {
      "cell_type": "markdown",
      "metadata": {
        "id": "6ceee27a-ab56-4b35-80b0-efe67813a6e2"
      },
      "source": [
        "Now since we know $\\vec{v}_1$ is perpendicular to $\\vec{v}_2$ because $\\Omega$ is Hermitian, we can guess a form for it:"
      ],
      "id": "6ceee27a-ab56-4b35-80b0-efe67813a6e2"
    },
    {
      "cell_type": "code",
      "metadata": {
        "id": "33400826-0d3c-44d4-80c3-f0e2660370f6",
        "colab": {
          "base_uri": "https://localhost:8080/",
          "height": 71
        },
        "outputId": "355e070c-bb0b-40f5-fe94-bb8c6b067f0f"
      },
      "source": [
        "v⃗₁ = ket( -v⃗₂'[2], v⃗₂'[1] );\n",
        "disp(\"Our guess $(L\"\\vec{v}_1 = \") $(TeX( v⃗₁ )), is clearly orthogonal: $(L\"\\langle 1|2\\rangle = \\vec{v}_1^\\dagger \\cdot \\vec{v}_2 = \") $(TeX( v⃗₁|v⃗₂ )).\")"
      ],
      "id": "33400826-0d3c-44d4-80c3-f0e2660370f6",
      "execution_count": 41,
      "outputs": [
        {
          "output_type": "display_data",
          "data": {
            "text/markdown": "Our guess $\\vec{v}_1 = $ $\\left[\\begin{matrix}-0.707106781186547\\\\0.707106781186547 i\\end{matrix}\\right]$, is clearly orthogonal: $\\langle 1|2\\rangle = \\vec{v}_1^\\dagger \\cdot \\vec{v}_2 = $ $0$."
          },
          "metadata": {
            "tags": []
          }
        }
      ]
    },
    {
      "cell_type": "code",
      "metadata": {
        "id": "1fbf74bd-f842-4f0f-b8e4-8f44d6aee303",
        "colab": {
          "base_uri": "https://localhost:8080/",
          "height": 114
        },
        "outputId": "13bd4a5b-14a8-430a-f790-f05b7530567c"
      },
      "source": [
        "U = [v⃗₁ v⃗₂];\n",
        "Ω′= U' * Ω * U; # UᵀΩU\n",
        "disp(\"Placing the eigenvectors as columns in an operator $(L\"U = \") $(TeX( U )), so that as promised, $(L\"\\Omega' = U^\\dagger \\Omega U = \") $(TeX( Ω′ .|> simplify )) is diagonal with its eigenvalues.\")"
      ],
      "id": "1fbf74bd-f842-4f0f-b8e4-8f44d6aee303",
      "execution_count": 42,
      "outputs": [
        {
          "output_type": "display_data",
          "data": {
            "text/markdown": "Placing the eigenvectors as columns in an operator $U = $ $\\left[\\begin{matrix}-0.707106781186547 & - 0.707106781186547 i\\\\0.707106781186547 i & 0.707106781186547\\end{matrix}\\right]$, so that as promised, $\\Omega' = U^\\dagger \\Omega U = $ $\\left[\\begin{matrix}1.0 e^{- i θ} & 0\\\\0 & 1.0 e^{i θ}\\end{matrix}\\right]$ is diagonal with its eigenvalues."
          },
          "metadata": {
            "tags": []
          }
        }
      ]
    }
  ]
}